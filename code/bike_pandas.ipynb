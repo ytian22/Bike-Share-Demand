{
 "cells": [
  {
   "cell_type": "code",
   "execution_count": 1,
   "metadata": {},
   "outputs": [],
   "source": [
    "from pyspark import SparkContext\n",
    "from pyspark.sql.types import *\n",
    "from pyspark.sql import Row\n",
    "from pyspark.sql.functions import *\n",
    "import math\n",
    "sc = SparkContext.getOrCreate()\n",
    "sqlContext = SQLContext(sc)\n",
    "\n",
    "from pyspark.ml.feature import StringIndexer\n",
    "from pyspark.ml.feature import OneHotEncoder\n",
    "\n",
    "\n",
    "from pyspark.ml.feature import VectorAssembler\n",
    "\n",
    "from pyspark.ml.classification import LogisticRegression\n",
    "from pyspark.ml.evaluation import BinaryClassificationEvaluator\n",
    "from pyspark.ml.tuning import CrossValidator\n",
    "from pyspark.ml.tuning import ParamGridBuilder\n",
    "\n",
    "\n",
    "from pyspark.ml.linalg import Vectors, VectorUDT\n",
    "from pyspark.sql.functions import udf\n",
    "\n",
    "from pyspark.ml.classification import DecisionTreeClassifier\n",
    "from pyspark.ml.evaluation import MulticlassClassificationEvaluator\n",
    "\n",
    "from pyspark.ml.clustering import KMeans\n",
    "\n",
    "from pyspark.ml.classification import RandomForestClassifier"
   ]
  },
  {
   "cell_type": "code",
   "execution_count": 2,
   "metadata": {},
   "outputs": [
    {
     "data": {
      "text/html": [
       "\n",
       "        <div>\n",
       "            <p><b>SparkContext</b></p>\n",
       "\n",
       "            <p><a href=\"http://10.0.0.131:4040\">Spark UI</a></p>\n",
       "\n",
       "            <dl>\n",
       "              <dt>Version</dt>\n",
       "                <dd><code>v2.2.0</code></dd>\n",
       "              <dt>Master</dt>\n",
       "                <dd><code>local[*]</code></dd>\n",
       "              <dt>AppName</dt>\n",
       "                <dd><code>PySparkShell</code></dd>\n",
       "            </dl>\n",
       "        </div>\n",
       "        "
      ],
      "text/plain": [
       "<SparkContext master=local[*] appName=PySparkShell>"
      ]
     },
     "execution_count": 2,
     "metadata": {},
     "output_type": "execute_result"
    }
   ],
   "source": [
    "sc"
   ]
  },
  {
   "cell_type": "markdown",
   "metadata": {},
   "source": [
    "## A. Read in data and join the tables of weather, trip and station"
   ]
  },
  {
   "cell_type": "code",
   "execution_count": 3,
   "metadata": {},
   "outputs": [],
   "source": [
    "%matplotlib inline\n",
    "\n",
    "import pandas as pd \n",
    "import numpy as np\n",
    "\n",
    "from sklearn.ensemble import RandomForestRegressor, RandomForestClassifier\n",
    "from sklearn import metrics\n",
    "\n",
    "import matplotlib.pyplot as plt"
   ]
  },
  {
   "cell_type": "code",
   "execution_count": 4,
   "metadata": {},
   "outputs": [],
   "source": [
    "file1= 'station.csv'\n",
    "file2= 'status.csv'\n",
    "file3= 'trip.csv'\n",
    "file4= 'weather.csv'"
   ]
  },
  {
   "cell_type": "code",
   "execution_count": 3,
   "metadata": {
    "collapsed": true
   },
   "outputs": [],
   "source": [
    "stationDtype = {\n",
    "    'id': 'int32',\n",
    "    'name':'object',\n",
    "    'lat':'float32',\n",
    "    'long':'float32',\n",
    "    'dock_count':'float32',\n",
    "    'city':'object'}"
   ]
  },
  {
   "cell_type": "code",
   "execution_count": 4,
   "metadata": {
    "collapsed": true
   },
   "outputs": [],
   "source": [
    "stationRaw = pd.read_csv(file1, parse_dates=['installation_date'], dtype=stationDtype)"
   ]
  },
  {
   "cell_type": "code",
   "execution_count": 5,
   "metadata": {},
   "outputs": [
    {
     "name": "stdout",
     "output_type": "stream",
     "text": [
      "<class 'pandas.core.frame.DataFrame'>\n",
      "RangeIndex: 70 entries, 0 to 69\n",
      "Data columns (total 7 columns):\n",
      "id                   70 non-null int32\n",
      "name                 70 non-null object\n",
      "lat                  70 non-null float32\n",
      "long                 70 non-null float32\n",
      "dock_count           70 non-null float32\n",
      "city                 70 non-null object\n",
      "installation_date    70 non-null datetime64[ns]\n",
      "dtypes: datetime64[ns](1), float32(3), int32(1), object(2)\n",
      "memory usage: 2.8+ KB\n"
     ]
    }
   ],
   "source": [
    "stationRaw.info()"
   ]
  },
  {
   "cell_type": "code",
   "execution_count": 12,
   "metadata": {
    "collapsed": true
   },
   "outputs": [],
   "source": [
    "import zipcode"
   ]
  },
  {
   "cell_type": "code",
   "execution_count": 6,
   "metadata": {
    "collapsed": true
   },
   "outputs": [],
   "source": [
    "statusDtype = {\n",
    "    'station_id':'int32',\n",
    "    'bikes_available':'int32', \n",
    "    'docks_available':'int32'}"
   ]
  },
  {
   "cell_type": "code",
   "execution_count": 10,
   "metadata": {
    "collapsed": true
   },
   "outputs": [],
   "source": [
    "#statusRaw = pd.read_csv(file2, parse_dates=['time'], dtype=statusDtype)"
   ]
  },
  {
   "cell_type": "code",
   "execution_count": 11,
   "metadata": {
    "collapsed": true
   },
   "outputs": [],
   "source": [
    "#statusRaw.head()"
   ]
  },
  {
   "cell_type": "code",
   "execution_count": 12,
   "metadata": {
    "collapsed": true
   },
   "outputs": [],
   "source": [
    "#statusRaw.dtypes"
   ]
  },
  {
   "cell_type": "code",
   "execution_count": 7,
   "metadata": {
    "collapsed": true
   },
   "outputs": [],
   "source": [
    "tripDtype = {\n",
    "    'id':'int32',\n",
    "    'duration':'int32', \n",
    "    'start_station_name':'object',\n",
    "    'end_station_name':'object',\n",
    "    'end_station_id':'int32',\n",
    "    'bike_id':'int32',\n",
    "    'subscription_type': 'object',\n",
    "    'zip_code': 'str'}"
   ]
  },
  {
   "cell_type": "code",
   "execution_count": 8,
   "metadata": {
    "collapsed": true
   },
   "outputs": [],
   "source": [
    "tripRaw = pd.read_csv(file3, parse_dates=['start_date', 'end_date'], na_values=['NaN'], dtype=tripDtype)"
   ]
  },
  {
   "cell_type": "code",
   "execution_count": 9,
   "metadata": {},
   "outputs": [
    {
     "data": {
      "text/html": [
       "<div>\n",
       "<style scoped>\n",
       "    .dataframe tbody tr th:only-of-type {\n",
       "        vertical-align: middle;\n",
       "    }\n",
       "\n",
       "    .dataframe tbody tr th {\n",
       "        vertical-align: top;\n",
       "    }\n",
       "\n",
       "    .dataframe thead th {\n",
       "        text-align: right;\n",
       "    }\n",
       "</style>\n",
       "<table border=\"1\" class=\"dataframe\">\n",
       "  <thead>\n",
       "    <tr style=\"text-align: right;\">\n",
       "      <th></th>\n",
       "      <th>id</th>\n",
       "      <th>duration</th>\n",
       "      <th>start_date</th>\n",
       "      <th>start_station_name</th>\n",
       "      <th>start_station_id</th>\n",
       "      <th>end_date</th>\n",
       "      <th>end_station_name</th>\n",
       "      <th>end_station_id</th>\n",
       "      <th>bike_id</th>\n",
       "      <th>subscription_type</th>\n",
       "      <th>zip_code</th>\n",
       "    </tr>\n",
       "  </thead>\n",
       "  <tbody>\n",
       "    <tr>\n",
       "      <th>0</th>\n",
       "      <td>4576</td>\n",
       "      <td>63</td>\n",
       "      <td>2013-08-29 14:13:00</td>\n",
       "      <td>South Van Ness at Market</td>\n",
       "      <td>66</td>\n",
       "      <td>2013-08-29 14:14:00</td>\n",
       "      <td>South Van Ness at Market</td>\n",
       "      <td>66</td>\n",
       "      <td>520</td>\n",
       "      <td>Subscriber</td>\n",
       "      <td>94127</td>\n",
       "    </tr>\n",
       "    <tr>\n",
       "      <th>1</th>\n",
       "      <td>4607</td>\n",
       "      <td>70</td>\n",
       "      <td>2013-08-29 14:42:00</td>\n",
       "      <td>San Jose City Hall</td>\n",
       "      <td>10</td>\n",
       "      <td>2013-08-29 14:43:00</td>\n",
       "      <td>San Jose City Hall</td>\n",
       "      <td>10</td>\n",
       "      <td>661</td>\n",
       "      <td>Subscriber</td>\n",
       "      <td>95138</td>\n",
       "    </tr>\n",
       "    <tr>\n",
       "      <th>2</th>\n",
       "      <td>4130</td>\n",
       "      <td>71</td>\n",
       "      <td>2013-08-29 10:16:00</td>\n",
       "      <td>Mountain View City Hall</td>\n",
       "      <td>27</td>\n",
       "      <td>2013-08-29 10:17:00</td>\n",
       "      <td>Mountain View City Hall</td>\n",
       "      <td>27</td>\n",
       "      <td>48</td>\n",
       "      <td>Subscriber</td>\n",
       "      <td>97214</td>\n",
       "    </tr>\n",
       "    <tr>\n",
       "      <th>3</th>\n",
       "      <td>4251</td>\n",
       "      <td>77</td>\n",
       "      <td>2013-08-29 11:29:00</td>\n",
       "      <td>San Jose City Hall</td>\n",
       "      <td>10</td>\n",
       "      <td>2013-08-29 11:30:00</td>\n",
       "      <td>San Jose City Hall</td>\n",
       "      <td>10</td>\n",
       "      <td>26</td>\n",
       "      <td>Subscriber</td>\n",
       "      <td>95060</td>\n",
       "    </tr>\n",
       "    <tr>\n",
       "      <th>4</th>\n",
       "      <td>4299</td>\n",
       "      <td>83</td>\n",
       "      <td>2013-08-29 12:02:00</td>\n",
       "      <td>South Van Ness at Market</td>\n",
       "      <td>66</td>\n",
       "      <td>2013-08-29 12:04:00</td>\n",
       "      <td>Market at 10th</td>\n",
       "      <td>67</td>\n",
       "      <td>319</td>\n",
       "      <td>Subscriber</td>\n",
       "      <td>94103</td>\n",
       "    </tr>\n",
       "  </tbody>\n",
       "</table>\n",
       "</div>"
      ],
      "text/plain": [
       "     id  duration          start_date        start_station_name  \\\n",
       "0  4576        63 2013-08-29 14:13:00  South Van Ness at Market   \n",
       "1  4607        70 2013-08-29 14:42:00        San Jose City Hall   \n",
       "2  4130        71 2013-08-29 10:16:00   Mountain View City Hall   \n",
       "3  4251        77 2013-08-29 11:29:00        San Jose City Hall   \n",
       "4  4299        83 2013-08-29 12:02:00  South Van Ness at Market   \n",
       "\n",
       "   start_station_id            end_date          end_station_name  \\\n",
       "0                66 2013-08-29 14:14:00  South Van Ness at Market   \n",
       "1                10 2013-08-29 14:43:00        San Jose City Hall   \n",
       "2                27 2013-08-29 10:17:00   Mountain View City Hall   \n",
       "3                10 2013-08-29 11:30:00        San Jose City Hall   \n",
       "4                66 2013-08-29 12:04:00            Market at 10th   \n",
       "\n",
       "   end_station_id  bike_id subscription_type zip_code  \n",
       "0              66      520        Subscriber    94127  \n",
       "1              10      661        Subscriber    95138  \n",
       "2              27       48        Subscriber    97214  \n",
       "3              10       26        Subscriber    95060  \n",
       "4              67      319        Subscriber    94103  "
      ]
     },
     "execution_count": 9,
     "metadata": {},
     "output_type": "execute_result"
    }
   ],
   "source": [
    "tripRaw.head()"
   ]
  },
  {
   "cell_type": "code",
   "execution_count": 10,
   "metadata": {
    "scrolled": true
   },
   "outputs": [
    {
     "data": {
      "text/plain": [
       "str"
      ]
     },
     "execution_count": 10,
     "metadata": {},
     "output_type": "execute_result"
    }
   ],
   "source": [
    "type(tripRaw['zip_code'][0])"
   ]
  },
  {
   "cell_type": "code",
   "execution_count": 11,
   "metadata": {
    "collapsed": true
   },
   "outputs": [],
   "source": [
    "weatherDtype = {'zip_code': 'str'}"
   ]
  },
  {
   "cell_type": "code",
   "execution_count": 12,
   "metadata": {
    "collapsed": true
   },
   "outputs": [],
   "source": [
    "weatherRaw = pd.read_csv(file4, parse_dates=['date'],dtype=weatherDtype)"
   ]
  },
  {
   "cell_type": "code",
   "execution_count": 13,
   "metadata": {},
   "outputs": [
    {
     "data": {
      "text/plain": [
       "str"
      ]
     },
     "execution_count": 13,
     "metadata": {},
     "output_type": "execute_result"
    }
   ],
   "source": [
    "type(weatherRaw['zip_code'][0])"
   ]
  },
  {
   "cell_type": "code",
   "execution_count": 14,
   "metadata": {},
   "outputs": [
    {
     "data": {
      "text/html": [
       "<div>\n",
       "<style scoped>\n",
       "    .dataframe tbody tr th:only-of-type {\n",
       "        vertical-align: middle;\n",
       "    }\n",
       "\n",
       "    .dataframe tbody tr th {\n",
       "        vertical-align: top;\n",
       "    }\n",
       "\n",
       "    .dataframe thead th {\n",
       "        text-align: right;\n",
       "    }\n",
       "</style>\n",
       "<table border=\"1\" class=\"dataframe\">\n",
       "  <thead>\n",
       "    <tr style=\"text-align: right;\">\n",
       "      <th></th>\n",
       "      <th>date</th>\n",
       "      <th>max_temperature_f</th>\n",
       "      <th>mean_temperature_f</th>\n",
       "      <th>min_temperature_f</th>\n",
       "      <th>max_dew_point_f</th>\n",
       "      <th>mean_dew_point_f</th>\n",
       "      <th>min_dew_point_f</th>\n",
       "      <th>max_humidity</th>\n",
       "      <th>mean_humidity</th>\n",
       "      <th>min_humidity</th>\n",
       "      <th>...</th>\n",
       "      <th>mean_visibility_miles</th>\n",
       "      <th>min_visibility_miles</th>\n",
       "      <th>max_wind_Speed_mph</th>\n",
       "      <th>mean_wind_speed_mph</th>\n",
       "      <th>max_gust_speed_mph</th>\n",
       "      <th>precipitation_inches</th>\n",
       "      <th>cloud_cover</th>\n",
       "      <th>events</th>\n",
       "      <th>wind_dir_degrees</th>\n",
       "      <th>zip_code</th>\n",
       "    </tr>\n",
       "  </thead>\n",
       "  <tbody>\n",
       "    <tr>\n",
       "      <th>0</th>\n",
       "      <td>2013-08-29</td>\n",
       "      <td>74.0</td>\n",
       "      <td>68.0</td>\n",
       "      <td>61.0</td>\n",
       "      <td>61.0</td>\n",
       "      <td>58.0</td>\n",
       "      <td>56.0</td>\n",
       "      <td>93.0</td>\n",
       "      <td>75.0</td>\n",
       "      <td>57.0</td>\n",
       "      <td>...</td>\n",
       "      <td>10.0</td>\n",
       "      <td>10.0</td>\n",
       "      <td>23.0</td>\n",
       "      <td>11.0</td>\n",
       "      <td>28.0</td>\n",
       "      <td>0</td>\n",
       "      <td>4.0</td>\n",
       "      <td>NaN</td>\n",
       "      <td>286.0</td>\n",
       "      <td>94107</td>\n",
       "    </tr>\n",
       "    <tr>\n",
       "      <th>1</th>\n",
       "      <td>2013-08-30</td>\n",
       "      <td>78.0</td>\n",
       "      <td>69.0</td>\n",
       "      <td>60.0</td>\n",
       "      <td>61.0</td>\n",
       "      <td>58.0</td>\n",
       "      <td>56.0</td>\n",
       "      <td>90.0</td>\n",
       "      <td>70.0</td>\n",
       "      <td>50.0</td>\n",
       "      <td>...</td>\n",
       "      <td>10.0</td>\n",
       "      <td>7.0</td>\n",
       "      <td>29.0</td>\n",
       "      <td>13.0</td>\n",
       "      <td>35.0</td>\n",
       "      <td>0</td>\n",
       "      <td>2.0</td>\n",
       "      <td>NaN</td>\n",
       "      <td>291.0</td>\n",
       "      <td>94107</td>\n",
       "    </tr>\n",
       "    <tr>\n",
       "      <th>2</th>\n",
       "      <td>2013-08-31</td>\n",
       "      <td>71.0</td>\n",
       "      <td>64.0</td>\n",
       "      <td>57.0</td>\n",
       "      <td>57.0</td>\n",
       "      <td>56.0</td>\n",
       "      <td>54.0</td>\n",
       "      <td>93.0</td>\n",
       "      <td>75.0</td>\n",
       "      <td>57.0</td>\n",
       "      <td>...</td>\n",
       "      <td>10.0</td>\n",
       "      <td>10.0</td>\n",
       "      <td>26.0</td>\n",
       "      <td>15.0</td>\n",
       "      <td>31.0</td>\n",
       "      <td>0</td>\n",
       "      <td>4.0</td>\n",
       "      <td>NaN</td>\n",
       "      <td>284.0</td>\n",
       "      <td>94107</td>\n",
       "    </tr>\n",
       "    <tr>\n",
       "      <th>3</th>\n",
       "      <td>2013-09-01</td>\n",
       "      <td>74.0</td>\n",
       "      <td>66.0</td>\n",
       "      <td>58.0</td>\n",
       "      <td>60.0</td>\n",
       "      <td>56.0</td>\n",
       "      <td>53.0</td>\n",
       "      <td>87.0</td>\n",
       "      <td>68.0</td>\n",
       "      <td>49.0</td>\n",
       "      <td>...</td>\n",
       "      <td>10.0</td>\n",
       "      <td>10.0</td>\n",
       "      <td>25.0</td>\n",
       "      <td>13.0</td>\n",
       "      <td>29.0</td>\n",
       "      <td>0</td>\n",
       "      <td>4.0</td>\n",
       "      <td>NaN</td>\n",
       "      <td>284.0</td>\n",
       "      <td>94107</td>\n",
       "    </tr>\n",
       "    <tr>\n",
       "      <th>4</th>\n",
       "      <td>2013-09-02</td>\n",
       "      <td>75.0</td>\n",
       "      <td>69.0</td>\n",
       "      <td>62.0</td>\n",
       "      <td>61.0</td>\n",
       "      <td>60.0</td>\n",
       "      <td>58.0</td>\n",
       "      <td>93.0</td>\n",
       "      <td>77.0</td>\n",
       "      <td>61.0</td>\n",
       "      <td>...</td>\n",
       "      <td>10.0</td>\n",
       "      <td>6.0</td>\n",
       "      <td>23.0</td>\n",
       "      <td>12.0</td>\n",
       "      <td>30.0</td>\n",
       "      <td>0</td>\n",
       "      <td>6.0</td>\n",
       "      <td>NaN</td>\n",
       "      <td>277.0</td>\n",
       "      <td>94107</td>\n",
       "    </tr>\n",
       "  </tbody>\n",
       "</table>\n",
       "<p>5 rows × 24 columns</p>\n",
       "</div>"
      ],
      "text/plain": [
       "        date  max_temperature_f  mean_temperature_f  min_temperature_f  \\\n",
       "0 2013-08-29               74.0                68.0               61.0   \n",
       "1 2013-08-30               78.0                69.0               60.0   \n",
       "2 2013-08-31               71.0                64.0               57.0   \n",
       "3 2013-09-01               74.0                66.0               58.0   \n",
       "4 2013-09-02               75.0                69.0               62.0   \n",
       "\n",
       "   max_dew_point_f  mean_dew_point_f  min_dew_point_f  max_humidity  \\\n",
       "0             61.0              58.0             56.0          93.0   \n",
       "1             61.0              58.0             56.0          90.0   \n",
       "2             57.0              56.0             54.0          93.0   \n",
       "3             60.0              56.0             53.0          87.0   \n",
       "4             61.0              60.0             58.0          93.0   \n",
       "\n",
       "   mean_humidity  min_humidity   ...     mean_visibility_miles  \\\n",
       "0           75.0          57.0   ...                      10.0   \n",
       "1           70.0          50.0   ...                      10.0   \n",
       "2           75.0          57.0   ...                      10.0   \n",
       "3           68.0          49.0   ...                      10.0   \n",
       "4           77.0          61.0   ...                      10.0   \n",
       "\n",
       "   min_visibility_miles  max_wind_Speed_mph  mean_wind_speed_mph  \\\n",
       "0                  10.0                23.0                 11.0   \n",
       "1                   7.0                29.0                 13.0   \n",
       "2                  10.0                26.0                 15.0   \n",
       "3                  10.0                25.0                 13.0   \n",
       "4                   6.0                23.0                 12.0   \n",
       "\n",
       "   max_gust_speed_mph  precipitation_inches  cloud_cover  events  \\\n",
       "0                28.0                     0          4.0     NaN   \n",
       "1                35.0                     0          2.0     NaN   \n",
       "2                31.0                     0          4.0     NaN   \n",
       "3                29.0                     0          4.0     NaN   \n",
       "4                30.0                     0          6.0     NaN   \n",
       "\n",
       "   wind_dir_degrees zip_code  \n",
       "0             286.0    94107  \n",
       "1             291.0    94107  \n",
       "2             284.0    94107  \n",
       "3             284.0    94107  \n",
       "4             277.0    94107  \n",
       "\n",
       "[5 rows x 24 columns]"
      ]
     },
     "execution_count": 14,
     "metadata": {},
     "output_type": "execute_result"
    }
   ],
   "source": [
    "weatherRaw.head()"
   ]
  },
  {
   "cell_type": "code",
   "execution_count": 15,
   "metadata": {
    "collapsed": true
   },
   "outputs": [],
   "source": [
    "# avg demand and total demand by weather\n",
    "\n",
    "weather = weatherRaw[['date', 'events', 'zip_code']]\n",
    "trip = tripRaw[['start_date','id', 'zip_code']]"
   ]
  },
  {
   "cell_type": "code",
   "execution_count": 16,
   "metadata": {},
   "outputs": [
    {
     "data": {
      "text/plain": [
       "date        datetime64[ns]\n",
       "events              object\n",
       "zip_code            object\n",
       "dtype: object"
      ]
     },
     "execution_count": 16,
     "metadata": {},
     "output_type": "execute_result"
    }
   ],
   "source": [
    "weather.dtypes"
   ]
  },
  {
   "cell_type": "code",
   "execution_count": 17,
   "metadata": {},
   "outputs": [
    {
     "data": {
      "text/plain": [
       "start_date    datetime64[ns]\n",
       "id                     int32\n",
       "zip_code              object\n",
       "dtype: object"
      ]
     },
     "execution_count": 17,
     "metadata": {},
     "output_type": "execute_result"
    }
   ],
   "source": [
    "trip.dtypes"
   ]
  },
  {
   "cell_type": "code",
   "execution_count": 19,
   "metadata": {},
   "outputs": [
    {
     "name": "stderr",
     "output_type": "stream",
     "text": [
      "/Users/Yimei/anaconda2/lib/python2.7/site-packages/ipykernel_launcher.py:1: SettingWithCopyWarning: \n",
      "A value is trying to be set on a copy of a slice from a DataFrame.\n",
      "Try using .loc[row_indexer,col_indexer] = value instead\n",
      "\n",
      "See the caveats in the documentation: http://pandas.pydata.org/pandas-docs/stable/indexing.html#indexing-view-versus-copy\n",
      "  \"\"\"Entry point for launching an IPython kernel.\n"
     ]
    }
   ],
   "source": [
    "trip['start_date'] = trip['start_date'].dt.floor('d')"
   ]
  },
  {
   "cell_type": "code",
   "execution_count": 20,
   "metadata": {},
   "outputs": [
    {
     "name": "stderr",
     "output_type": "stream",
     "text": [
      "/Users/Yimei/anaconda2/lib/python2.7/site-packages/ipykernel_launcher.py:2: SettingWithCopyWarning: \n",
      "A value is trying to be set on a copy of a slice from a DataFrame.\n",
      "Try using .loc[row_indexer,col_indexer] = value instead\n",
      "\n",
      "See the caveats in the documentation: http://pandas.pydata.org/pandas-docs/stable/indexing.html#indexing-view-versus-copy\n",
      "  \n"
     ]
    }
   ],
   "source": [
    "weather = weatherRaw[['date', 'events', 'zip_code']]\n",
    "weather['events'] = weather['events'].fillna('Sunny')\n",
    "trip = tripRaw[['start_date','id', 'zip_code']]"
   ]
  },
  {
   "cell_type": "code",
   "execution_count": 21,
   "metadata": {
    "collapsed": true
   },
   "outputs": [],
   "source": [
    "weatherTrip = weather.merge(trip,how='left', left_on = ['date', 'zip_code'], right_on = ['start_date', 'zip_code'])"
   ]
  },
  {
   "cell_type": "code",
   "execution_count": 22,
   "metadata": {
    "collapsed": true
   },
   "outputs": [],
   "source": [
    "weatherTrip['events'] = weatherTrip['events']\n",
    "weatherTrip = weatherTrip.groupby([weatherTrip['events']]).count()"
   ]
  },
  {
   "cell_type": "code",
   "execution_count": 23,
   "metadata": {
    "collapsed": true
   },
   "outputs": [],
   "source": [
    "d = {'Total Trips': weatherTrip['date']}"
   ]
  },
  {
   "cell_type": "code",
   "execution_count": 24,
   "metadata": {
    "collapsed": true
   },
   "outputs": [],
   "source": [
    "total_trip = pd.DataFrame(data=d)"
   ]
  },
  {
   "cell_type": "code",
   "execution_count": 25,
   "metadata": {
    "collapsed": true
   },
   "outputs": [],
   "source": [
    "total_trip.index.names = ['Weather Condition']"
   ]
  },
  {
   "cell_type": "code",
   "execution_count": 26,
   "metadata": {},
   "outputs": [
    {
     "data": {
      "text/html": [
       "<div>\n",
       "<style scoped>\n",
       "    .dataframe tbody tr th:only-of-type {\n",
       "        vertical-align: middle;\n",
       "    }\n",
       "\n",
       "    .dataframe tbody tr th {\n",
       "        vertical-align: top;\n",
       "    }\n",
       "\n",
       "    .dataframe thead th {\n",
       "        text-align: right;\n",
       "    }\n",
       "</style>\n",
       "<table border=\"1\" class=\"dataframe\">\n",
       "  <thead>\n",
       "    <tr style=\"text-align: right;\">\n",
       "      <th></th>\n",
       "      <th>Total Trips</th>\n",
       "    </tr>\n",
       "    <tr>\n",
       "      <th>Weather Condition</th>\n",
       "      <th></th>\n",
       "    </tr>\n",
       "  </thead>\n",
       "  <tbody>\n",
       "    <tr>\n",
       "      <th>Fog</th>\n",
       "      <td>112</td>\n",
       "    </tr>\n",
       "    <tr>\n",
       "      <th>Fog-Rain</th>\n",
       "      <td>17</td>\n",
       "    </tr>\n",
       "    <tr>\n",
       "      <th>Rain</th>\n",
       "      <td>388</td>\n",
       "    </tr>\n",
       "    <tr>\n",
       "      <th>Rain-Thunderstorm</th>\n",
       "      <td>3</td>\n",
       "    </tr>\n",
       "    <tr>\n",
       "      <th>Sunny</th>\n",
       "      <td>3145</td>\n",
       "    </tr>\n",
       "    <tr>\n",
       "      <th>rain</th>\n",
       "      <td>2</td>\n",
       "    </tr>\n",
       "  </tbody>\n",
       "</table>\n",
       "</div>"
      ],
      "text/plain": [
       "                   Total Trips\n",
       "Weather Condition             \n",
       "Fog                        112\n",
       "Fog-Rain                    17\n",
       "Rain                       388\n",
       "Rain-Thunderstorm            3\n",
       "Sunny                     3145\n",
       "rain                         2"
      ]
     },
     "execution_count": 26,
     "metadata": {},
     "output_type": "execute_result"
    }
   ],
   "source": [
    "total_trip"
   ]
  },
  {
   "cell_type": "markdown",
   "metadata": {},
   "source": [
    "### A.1.Simple EDA of the trip table"
   ]
  },
  {
   "cell_type": "code",
   "execution_count": 27,
   "metadata": {},
   "outputs": [
    {
     "data": {
      "text/plain": [
       "<matplotlib.axes._subplots.AxesSubplot at 0x1a12300d50>"
      ]
     },
     "execution_count": 27,
     "metadata": {},
     "output_type": "execute_result"
    },
    {
     "data": {
      "text/plain": [
       "<matplotlib.figure.Figure at 0x1a0d0a47d0>"
      ]
     },
     "metadata": {},
     "output_type": "display_data"
    },
    {
     "data": {
      "image/png": "[encoded data removed]",
      "text/plain": [
       "<matplotlib.figure.Figure at 0x1a0cfef510>"
      ]
     },
     "metadata": {},
     "output_type": "display_data"
    }
   ],
   "source": [
    "plt.figure()\n",
    "total_trip.plot(kind='bar', rot=35)\n"
   ]
  },
  {
   "cell_type": "code",
   "execution_count": 47,
   "metadata": {
    "collapsed": true
   },
   "outputs": [],
   "source": [
    "# Final DataFrame \n",
    "#1. group trip by 'date' and 'id'\n",
    "tripRaw['start_date'] = tripRaw['start_date'].dt.floor('d')"
   ]
  },
  {
   "cell_type": "code",
   "execution_count": 35,
   "metadata": {},
   "outputs": [
    {
     "data": {
      "text/plain": [
       "Index([u'id', u'duration', u'start_date', u'start_station_name',\n",
       "       u'start_station_id', u'end_date', u'end_station_name',\n",
       "       u'end_station_id', u'bike_id', u'subscription_type', u'zip_code'],\n",
       "      dtype='object')"
      ]
     },
     "execution_count": 35,
     "metadata": {},
     "output_type": "execute_result"
    }
   ],
   "source": [
    "tripRaw.columns"
   ]
  },
  {
   "cell_type": "code",
   "execution_count": 36,
   "metadata": {
    "collapsed": true
   },
   "outputs": [],
   "source": [
    "tripAgg = tripRaw.groupby(['start_date','zip_code', 'start_station_name'], as_index=False)['id'].count()"
   ]
  },
  {
   "cell_type": "code",
   "execution_count": 37,
   "metadata": {
    "collapsed": true
   },
   "outputs": [],
   "source": [
    "tripAgg=tripAgg.rename(columns={'id': \"num_trips\"})"
   ]
  },
  {
   "cell_type": "code",
   "execution_count": 38,
   "metadata": {},
   "outputs": [
    {
     "data": {
      "text/html": [
       "<div>\n",
       "<style scoped>\n",
       "    .dataframe tbody tr th:only-of-type {\n",
       "        vertical-align: middle;\n",
       "    }\n",
       "\n",
       "    .dataframe tbody tr th {\n",
       "        vertical-align: top;\n",
       "    }\n",
       "\n",
       "    .dataframe thead th {\n",
       "        text-align: right;\n",
       "    }\n",
       "</style>\n",
       "<table border=\"1\" class=\"dataframe\">\n",
       "  <thead>\n",
       "    <tr style=\"text-align: right;\">\n",
       "      <th></th>\n",
       "      <th>start_date</th>\n",
       "      <th>zip_code</th>\n",
       "      <th>start_station_name</th>\n",
       "      <th>num_trips</th>\n",
       "    </tr>\n",
       "  </thead>\n",
       "  <tbody>\n",
       "    <tr>\n",
       "      <th>0</th>\n",
       "      <td>2013-08-29</td>\n",
       "      <td>10003</td>\n",
       "      <td>California Ave Caltrain Station</td>\n",
       "      <td>2</td>\n",
       "    </tr>\n",
       "    <tr>\n",
       "      <th>1</th>\n",
       "      <td>2013-08-29</td>\n",
       "      <td>10003</td>\n",
       "      <td>University and Emerson</td>\n",
       "      <td>2</td>\n",
       "    </tr>\n",
       "    <tr>\n",
       "      <th>2</th>\n",
       "      <td>2013-08-29</td>\n",
       "      <td>10009</td>\n",
       "      <td>Commercial at Montgomery</td>\n",
       "      <td>1</td>\n",
       "    </tr>\n",
       "    <tr>\n",
       "      <th>3</th>\n",
       "      <td>2013-08-29</td>\n",
       "      <td>10009</td>\n",
       "      <td>Mechanics Plaza (Market at Battery)</td>\n",
       "      <td>1</td>\n",
       "    </tr>\n",
       "    <tr>\n",
       "      <th>4</th>\n",
       "      <td>2013-08-29</td>\n",
       "      <td>10009</td>\n",
       "      <td>South Van Ness at Market</td>\n",
       "      <td>1</td>\n",
       "    </tr>\n",
       "  </tbody>\n",
       "</table>\n",
       "</div>"
      ],
      "text/plain": [
       "  start_date zip_code                   start_station_name  num_trips\n",
       "0 2013-08-29    10003      California Ave Caltrain Station          2\n",
       "1 2013-08-29    10003               University and Emerson          2\n",
       "2 2013-08-29    10009             Commercial at Montgomery          1\n",
       "3 2013-08-29    10009  Mechanics Plaza (Market at Battery)          1\n",
       "4 2013-08-29    10009             South Van Ness at Market          1"
      ]
     },
     "execution_count": 38,
     "metadata": {},
     "output_type": "execute_result"
    }
   ],
   "source": [
    "tripAgg.head()"
   ]
  },
  {
   "cell_type": "code",
   "execution_count": 43,
   "metadata": {},
   "outputs": [
    {
     "data": {
      "text/plain": [
       "date                              datetime64[ns]\n",
       "max_temperature_f                        float64\n",
       "mean_temperature_f                       float64\n",
       "min_temperature_f                        float64\n",
       "max_dew_point_f                          float64\n",
       "mean_dew_point_f                         float64\n",
       "min_dew_point_f                          float64\n",
       "max_humidity                             float64\n",
       "mean_humidity                            float64\n",
       "min_humidity                             float64\n",
       "max_sea_level_pressure_inches            float64\n",
       "mean_sea_level_pressure_inches           float64\n",
       "min_sea_level_pressure_inches            float64\n",
       "max_visibility_miles                     float64\n",
       "mean_visibility_miles                    float64\n",
       "min_visibility_miles                     float64\n",
       "max_wind_Speed_mph                       float64\n",
       "mean_wind_speed_mph                      float64\n",
       "max_gust_speed_mph                       float64\n",
       "precipitation_inches                      object\n",
       "cloud_cover                              float64\n",
       "events                                    object\n",
       "wind_dir_degrees                         float64\n",
       "zip_code                                  object\n",
       "dtype: object"
      ]
     },
     "execution_count": 43,
     "metadata": {},
     "output_type": "execute_result"
    }
   ],
   "source": [
    "weatherRaw.dtypes"
   ]
  },
  {
   "cell_type": "code",
   "execution_count": 44,
   "metadata": {},
   "outputs": [
    {
     "data": {
      "text/html": [
       "<div>\n",
       "<style scoped>\n",
       "    .dataframe tbody tr th:only-of-type {\n",
       "        vertical-align: middle;\n",
       "    }\n",
       "\n",
       "    .dataframe tbody tr th {\n",
       "        vertical-align: top;\n",
       "    }\n",
       "\n",
       "    .dataframe thead th {\n",
       "        text-align: right;\n",
       "    }\n",
       "</style>\n",
       "<table border=\"1\" class=\"dataframe\">\n",
       "  <thead>\n",
       "    <tr style=\"text-align: right;\">\n",
       "      <th></th>\n",
       "      <th>zip_code</th>\n",
       "      <th>date</th>\n",
       "      <th>max_temperature_f</th>\n",
       "      <th>mean_temperature_f</th>\n",
       "      <th>min_temperature_f</th>\n",
       "      <th>max_dew_point_f</th>\n",
       "      <th>mean_dew_point_f</th>\n",
       "      <th>min_dew_point_f</th>\n",
       "      <th>max_humidity</th>\n",
       "      <th>mean_humidity</th>\n",
       "      <th>...</th>\n",
       "      <th>max_visibility_miles</th>\n",
       "      <th>mean_visibility_miles</th>\n",
       "      <th>min_visibility_miles</th>\n",
       "      <th>max_wind_Speed_mph</th>\n",
       "      <th>mean_wind_speed_mph</th>\n",
       "      <th>max_gust_speed_mph</th>\n",
       "      <th>precipitation_inches</th>\n",
       "      <th>cloud_cover</th>\n",
       "      <th>events</th>\n",
       "      <th>wind_dir_degrees</th>\n",
       "    </tr>\n",
       "  </thead>\n",
       "  <tbody>\n",
       "    <tr>\n",
       "      <th>0</th>\n",
       "      <td>94041</td>\n",
       "      <td>733</td>\n",
       "      <td>730</td>\n",
       "      <td>730</td>\n",
       "      <td>730</td>\n",
       "      <td>730</td>\n",
       "      <td>730</td>\n",
       "      <td>730</td>\n",
       "      <td>730</td>\n",
       "      <td>730</td>\n",
       "      <td>...</td>\n",
       "      <td>733</td>\n",
       "      <td>733</td>\n",
       "      <td>733</td>\n",
       "      <td>733</td>\n",
       "      <td>733</td>\n",
       "      <td>724</td>\n",
       "      <td>733</td>\n",
       "      <td>733</td>\n",
       "      <td>733</td>\n",
       "      <td>733</td>\n",
       "    </tr>\n",
       "    <tr>\n",
       "      <th>1</th>\n",
       "      <td>94063</td>\n",
       "      <td>733</td>\n",
       "      <td>733</td>\n",
       "      <td>733</td>\n",
       "      <td>733</td>\n",
       "      <td>733</td>\n",
       "      <td>733</td>\n",
       "      <td>733</td>\n",
       "      <td>733</td>\n",
       "      <td>733</td>\n",
       "      <td>...</td>\n",
       "      <td>733</td>\n",
       "      <td>733</td>\n",
       "      <td>733</td>\n",
       "      <td>733</td>\n",
       "      <td>733</td>\n",
       "      <td>321</td>\n",
       "      <td>733</td>\n",
       "      <td>733</td>\n",
       "      <td>733</td>\n",
       "      <td>733</td>\n",
       "    </tr>\n",
       "    <tr>\n",
       "      <th>2</th>\n",
       "      <td>94107</td>\n",
       "      <td>733</td>\n",
       "      <td>733</td>\n",
       "      <td>733</td>\n",
       "      <td>733</td>\n",
       "      <td>733</td>\n",
       "      <td>733</td>\n",
       "      <td>733</td>\n",
       "      <td>733</td>\n",
       "      <td>733</td>\n",
       "      <td>...</td>\n",
       "      <td>733</td>\n",
       "      <td>733</td>\n",
       "      <td>733</td>\n",
       "      <td>733</td>\n",
       "      <td>733</td>\n",
       "      <td>720</td>\n",
       "      <td>733</td>\n",
       "      <td>733</td>\n",
       "      <td>733</td>\n",
       "      <td>733</td>\n",
       "    </tr>\n",
       "    <tr>\n",
       "      <th>3</th>\n",
       "      <td>94301</td>\n",
       "      <td>733</td>\n",
       "      <td>732</td>\n",
       "      <td>732</td>\n",
       "      <td>732</td>\n",
       "      <td>682</td>\n",
       "      <td>682</td>\n",
       "      <td>682</td>\n",
       "      <td>682</td>\n",
       "      <td>682</td>\n",
       "      <td>...</td>\n",
       "      <td>720</td>\n",
       "      <td>720</td>\n",
       "      <td>720</td>\n",
       "      <td>732</td>\n",
       "      <td>732</td>\n",
       "      <td>280</td>\n",
       "      <td>732</td>\n",
       "      <td>732</td>\n",
       "      <td>733</td>\n",
       "      <td>732</td>\n",
       "    </tr>\n",
       "    <tr>\n",
       "      <th>4</th>\n",
       "      <td>95113</td>\n",
       "      <td>733</td>\n",
       "      <td>733</td>\n",
       "      <td>733</td>\n",
       "      <td>733</td>\n",
       "      <td>733</td>\n",
       "      <td>733</td>\n",
       "      <td>733</td>\n",
       "      <td>733</td>\n",
       "      <td>733</td>\n",
       "      <td>...</td>\n",
       "      <td>733</td>\n",
       "      <td>733</td>\n",
       "      <td>733</td>\n",
       "      <td>733</td>\n",
       "      <td>733</td>\n",
       "      <td>721</td>\n",
       "      <td>733</td>\n",
       "      <td>733</td>\n",
       "      <td>733</td>\n",
       "      <td>733</td>\n",
       "    </tr>\n",
       "  </tbody>\n",
       "</table>\n",
       "<p>5 rows × 24 columns</p>\n",
       "</div>"
      ],
      "text/plain": [
       "  zip_code  date  max_temperature_f  mean_temperature_f  min_temperature_f  \\\n",
       "0    94041   733                730                 730                730   \n",
       "1    94063   733                733                 733                733   \n",
       "2    94107   733                733                 733                733   \n",
       "3    94301   733                732                 732                732   \n",
       "4    95113   733                733                 733                733   \n",
       "\n",
       "   max_dew_point_f  mean_dew_point_f  min_dew_point_f  max_humidity  \\\n",
       "0              730               730              730           730   \n",
       "1              733               733              733           733   \n",
       "2              733               733              733           733   \n",
       "3              682               682              682           682   \n",
       "4              733               733              733           733   \n",
       "\n",
       "   mean_humidity        ...         max_visibility_miles  \\\n",
       "0            730        ...                          733   \n",
       "1            733        ...                          733   \n",
       "2            733        ...                          733   \n",
       "3            682        ...                          720   \n",
       "4            733        ...                          733   \n",
       "\n",
       "   mean_visibility_miles  min_visibility_miles  max_wind_Speed_mph  \\\n",
       "0                    733                   733                 733   \n",
       "1                    733                   733                 733   \n",
       "2                    733                   733                 733   \n",
       "3                    720                   720                 732   \n",
       "4                    733                   733                 733   \n",
       "\n",
       "   mean_wind_speed_mph  max_gust_speed_mph  precipitation_inches  cloud_cover  \\\n",
       "0                  733                 724                   733          733   \n",
       "1                  733                 321                   733          733   \n",
       "2                  733                 720                   733          733   \n",
       "3                  732                 280                   732          732   \n",
       "4                  733                 721                   733          733   \n",
       "\n",
       "   events  wind_dir_degrees  \n",
       "0     733               733  \n",
       "1     733               733  \n",
       "2     733               733  \n",
       "3     733               732  \n",
       "4     733               733  \n",
       "\n",
       "[5 rows x 24 columns]"
      ]
     },
     "execution_count": 44,
     "metadata": {},
     "output_type": "execute_result"
    }
   ],
   "source": [
    "weatherRaw.groupby(['zip_code'],as_index=False).count()"
   ]
  },
  {
   "cell_type": "code",
   "execution_count": 45,
   "metadata": {
    "collapsed": true
   },
   "outputs": [],
   "source": [
    "#tripAgg['zip_code'].unique()"
   ]
  },
  {
   "cell_type": "code",
   "execution_count": 46,
   "metadata": {
    "collapsed": true
   },
   "outputs": [],
   "source": [
    "#tripAgg['zip_code'] = tripAgg['zip_code'].astype('str')\n",
    "#mask = (tripAgg['zip_code'].str.len() == 5)\n",
    "#tripAgg = tripAgg.loc[mask]"
   ]
  },
  {
   "cell_type": "code",
   "execution_count": 47,
   "metadata": {
    "collapsed": true
   },
   "outputs": [],
   "source": [
    "#tripAgg['zip_code'].unique()"
   ]
  },
  {
   "cell_type": "code",
   "execution_count": 48,
   "metadata": {
    "collapsed": true
   },
   "outputs": [],
   "source": [
    "#tripAgg['start_date'] = tripAgg['start_date'].astype('object')\n",
    "#weatherRaw['date'] = weatherRaw['date'].astype('object')"
   ]
  },
  {
   "cell_type": "code",
   "execution_count": 49,
   "metadata": {},
   "outputs": [
    {
     "data": {
      "text/plain": [
       "str"
      ]
     },
     "execution_count": 49,
     "metadata": {},
     "output_type": "execute_result"
    }
   ],
   "source": [
    "type(tripAgg['zip_code'][0])"
   ]
  },
  {
   "cell_type": "code",
   "execution_count": 55,
   "metadata": {
    "collapsed": true
   },
   "outputs": [],
   "source": [
    "stationRaw = stationRaw.rename(columns={'id':'station_id'})"
   ]
  },
  {
   "cell_type": "code",
   "execution_count": null,
   "metadata": {},
   "outputs": [],
   "source": [
    "tripWeatherAgg = tripAgg.merge(weatherRaw,how='inner', left_on = ['start_date', 'zip_code'], right_on = ['date', 'zip_code'])"
   ]
  },
  {
   "cell_type": "markdown",
   "metadata": {},
   "source": [
    "### A.2 Join Station"
   ]
  },
  {
   "cell_type": "code",
   "execution_count": 59,
   "metadata": {
    "collapsed": true
   },
   "outputs": [],
   "source": [
    "tripWeatherStationAgg = tripWeatherAgg.merge(stationRaw, how='left',left_on=['start_station_name'], right_on=['name'])"
   ]
  },
  {
   "cell_type": "code",
   "execution_count": 62,
   "metadata": {
    "collapsed": true
   },
   "outputs": [],
   "source": [
    "tripWeatherStationAgg.to_csv('bikeFinalDF1.csv')"
   ]
  },
  {
   "cell_type": "code",
   "execution_count": 63,
   "metadata": {
    "collapsed": true
   },
   "outputs": [],
   "source": [
    "tripWeatherStationAgg = pd.read_csv('bikeFinalDF1.csv')"
   ]
  },
  {
   "cell_type": "code",
   "execution_count": 64,
   "metadata": {},
   "outputs": [
    {
     "data": {
      "text/html": [
       "<div>\n",
       "<style scoped>\n",
       "    .dataframe tbody tr th:only-of-type {\n",
       "        vertical-align: middle;\n",
       "    }\n",
       "\n",
       "    .dataframe tbody tr th {\n",
       "        vertical-align: top;\n",
       "    }\n",
       "\n",
       "    .dataframe thead th {\n",
       "        text-align: right;\n",
       "    }\n",
       "</style>\n",
       "<table border=\"1\" class=\"dataframe\">\n",
       "  <thead>\n",
       "    <tr style=\"text-align: right;\">\n",
       "      <th></th>\n",
       "      <th>Unnamed: 0</th>\n",
       "      <th>start_date</th>\n",
       "      <th>zip_code</th>\n",
       "      <th>start_station_name</th>\n",
       "      <th>num_trips</th>\n",
       "      <th>date</th>\n",
       "      <th>max_temperature_f</th>\n",
       "      <th>mean_temperature_f</th>\n",
       "      <th>min_temperature_f</th>\n",
       "      <th>max_dew_point_f</th>\n",
       "      <th>...</th>\n",
       "      <th>cloud_cover</th>\n",
       "      <th>events</th>\n",
       "      <th>wind_dir_degrees</th>\n",
       "      <th>station_id</th>\n",
       "      <th>name</th>\n",
       "      <th>lat</th>\n",
       "      <th>long</th>\n",
       "      <th>dock_count</th>\n",
       "      <th>city</th>\n",
       "      <th>installation_date</th>\n",
       "    </tr>\n",
       "  </thead>\n",
       "  <tbody>\n",
       "    <tr>\n",
       "      <th>0</th>\n",
       "      <td>0</td>\n",
       "      <td>2013-08-29</td>\n",
       "      <td>94041</td>\n",
       "      <td>Mountain View Caltrain Station</td>\n",
       "      <td>1</td>\n",
       "      <td>2013-08-29</td>\n",
       "      <td>80.0</td>\n",
       "      <td>70.0</td>\n",
       "      <td>64.0</td>\n",
       "      <td>65.0</td>\n",
       "      <td>...</td>\n",
       "      <td>4.0</td>\n",
       "      <td>Sunny</td>\n",
       "      <td>355.0</td>\n",
       "      <td>28.0</td>\n",
       "      <td>Mountain View Caltrain Station</td>\n",
       "      <td>37.394360</td>\n",
       "      <td>-122.076714</td>\n",
       "      <td>23.0</td>\n",
       "      <td>Mountain View</td>\n",
       "      <td>2013-08-15</td>\n",
       "    </tr>\n",
       "    <tr>\n",
       "      <th>1</th>\n",
       "      <td>1</td>\n",
       "      <td>2013-08-29</td>\n",
       "      <td>94041</td>\n",
       "      <td>Mountain View City Hall</td>\n",
       "      <td>1</td>\n",
       "      <td>2013-08-29</td>\n",
       "      <td>80.0</td>\n",
       "      <td>70.0</td>\n",
       "      <td>64.0</td>\n",
       "      <td>65.0</td>\n",
       "      <td>...</td>\n",
       "      <td>4.0</td>\n",
       "      <td>Sunny</td>\n",
       "      <td>355.0</td>\n",
       "      <td>27.0</td>\n",
       "      <td>Mountain View City Hall</td>\n",
       "      <td>37.389217</td>\n",
       "      <td>-122.081894</td>\n",
       "      <td>15.0</td>\n",
       "      <td>Mountain View</td>\n",
       "      <td>2013-08-16</td>\n",
       "    </tr>\n",
       "    <tr>\n",
       "      <th>2</th>\n",
       "      <td>2</td>\n",
       "      <td>2013-08-29</td>\n",
       "      <td>94041</td>\n",
       "      <td>Redwood City Caltrain Station</td>\n",
       "      <td>1</td>\n",
       "      <td>2013-08-29</td>\n",
       "      <td>80.0</td>\n",
       "      <td>70.0</td>\n",
       "      <td>64.0</td>\n",
       "      <td>65.0</td>\n",
       "      <td>...</td>\n",
       "      <td>4.0</td>\n",
       "      <td>Sunny</td>\n",
       "      <td>355.0</td>\n",
       "      <td>22.0</td>\n",
       "      <td>Redwood City Caltrain Station</td>\n",
       "      <td>37.486076</td>\n",
       "      <td>-122.232086</td>\n",
       "      <td>25.0</td>\n",
       "      <td>Redwood City</td>\n",
       "      <td>2013-08-15</td>\n",
       "    </tr>\n",
       "    <tr>\n",
       "      <th>3</th>\n",
       "      <td>3</td>\n",
       "      <td>2013-08-29</td>\n",
       "      <td>94041</td>\n",
       "      <td>Redwood City Medical Center</td>\n",
       "      <td>1</td>\n",
       "      <td>2013-08-29</td>\n",
       "      <td>80.0</td>\n",
       "      <td>70.0</td>\n",
       "      <td>64.0</td>\n",
       "      <td>65.0</td>\n",
       "      <td>...</td>\n",
       "      <td>4.0</td>\n",
       "      <td>Sunny</td>\n",
       "      <td>355.0</td>\n",
       "      <td>26.0</td>\n",
       "      <td>Redwood City Medical Center</td>\n",
       "      <td>37.487682</td>\n",
       "      <td>-122.223495</td>\n",
       "      <td>15.0</td>\n",
       "      <td>Redwood City</td>\n",
       "      <td>2013-08-12</td>\n",
       "    </tr>\n",
       "    <tr>\n",
       "      <th>4</th>\n",
       "      <td>4</td>\n",
       "      <td>2013-08-29</td>\n",
       "      <td>94041</td>\n",
       "      <td>San Pedro Square</td>\n",
       "      <td>1</td>\n",
       "      <td>2013-08-29</td>\n",
       "      <td>80.0</td>\n",
       "      <td>70.0</td>\n",
       "      <td>64.0</td>\n",
       "      <td>65.0</td>\n",
       "      <td>...</td>\n",
       "      <td>4.0</td>\n",
       "      <td>Sunny</td>\n",
       "      <td>355.0</td>\n",
       "      <td>6.0</td>\n",
       "      <td>San Pedro Square</td>\n",
       "      <td>37.336720</td>\n",
       "      <td>-121.894073</td>\n",
       "      <td>15.0</td>\n",
       "      <td>San Jose</td>\n",
       "      <td>2013-08-07</td>\n",
       "    </tr>\n",
       "  </tbody>\n",
       "</table>\n",
       "<p>5 rows × 35 columns</p>\n",
       "</div>"
      ],
      "text/plain": [
       "   Unnamed: 0  start_date  zip_code              start_station_name  \\\n",
       "0           0  2013-08-29     94041  Mountain View Caltrain Station   \n",
       "1           1  2013-08-29     94041         Mountain View City Hall   \n",
       "2           2  2013-08-29     94041   Redwood City Caltrain Station   \n",
       "3           3  2013-08-29     94041     Redwood City Medical Center   \n",
       "4           4  2013-08-29     94041                San Pedro Square   \n",
       "\n",
       "   num_trips        date  max_temperature_f  mean_temperature_f  \\\n",
       "0          1  2013-08-29               80.0                70.0   \n",
       "1          1  2013-08-29               80.0                70.0   \n",
       "2          1  2013-08-29               80.0                70.0   \n",
       "3          1  2013-08-29               80.0                70.0   \n",
       "4          1  2013-08-29               80.0                70.0   \n",
       "\n",
       "   min_temperature_f  max_dew_point_f        ...          cloud_cover  events  \\\n",
       "0               64.0             65.0        ...                  4.0   Sunny   \n",
       "1               64.0             65.0        ...                  4.0   Sunny   \n",
       "2               64.0             65.0        ...                  4.0   Sunny   \n",
       "3               64.0             65.0        ...                  4.0   Sunny   \n",
       "4               64.0             65.0        ...                  4.0   Sunny   \n",
       "\n",
       "   wind_dir_degrees  station_id                            name        lat  \\\n",
       "0             355.0        28.0  Mountain View Caltrain Station  37.394360   \n",
       "1             355.0        27.0         Mountain View City Hall  37.389217   \n",
       "2             355.0        22.0   Redwood City Caltrain Station  37.486076   \n",
       "3             355.0        26.0     Redwood City Medical Center  37.487682   \n",
       "4             355.0         6.0                San Pedro Square  37.336720   \n",
       "\n",
       "         long  dock_count           city  installation_date  \n",
       "0 -122.076714        23.0  Mountain View         2013-08-15  \n",
       "1 -122.081894        15.0  Mountain View         2013-08-16  \n",
       "2 -122.232086        25.0   Redwood City         2013-08-15  \n",
       "3 -122.223495        15.0   Redwood City         2013-08-12  \n",
       "4 -121.894073        15.0       San Jose         2013-08-07  \n",
       "\n",
       "[5 rows x 35 columns]"
      ]
     },
     "execution_count": 64,
     "metadata": {},
     "output_type": "execute_result"
    }
   ],
   "source": [
    "tripWeatherStationAgg.head()"
   ]
  },
  {
   "cell_type": "markdown",
   "metadata": {},
   "source": [
    "## B. Add Holidays"
   ]
  },
  {
   "cell_type": "code",
   "execution_count": 65,
   "metadata": {
    "collapsed": true
   },
   "outputs": [],
   "source": [
    "import holidays\n",
    "us_holidays = holidays.UnitedStates()\n",
    "def holiday(date):\n",
    "   if date in us_holidays:\n",
    "       return 1\n",
    "   else:\n",
    "       return 0\n",
    "tripWeatherStationAgg[\"holidays\"] = [holiday(x) for x in list(tripWeatherStationAgg[\"start_date\"])]"
   ]
  },
  {
   "cell_type": "code",
   "execution_count": 66,
   "metadata": {
    "collapsed": true
   },
   "outputs": [],
   "source": [
    "finalDF = tripWeatherStationAgg"
   ]
  },
  {
   "cell_type": "code",
   "execution_count": 67,
   "metadata": {},
   "outputs": [
    {
     "data": {
      "text/html": [
       "<div>\n",
       "<style scoped>\n",
       "    .dataframe tbody tr th:only-of-type {\n",
       "        vertical-align: middle;\n",
       "    }\n",
       "\n",
       "    .dataframe tbody tr th {\n",
       "        vertical-align: top;\n",
       "    }\n",
       "\n",
       "    .dataframe thead th {\n",
       "        text-align: right;\n",
       "    }\n",
       "</style>\n",
       "<table border=\"1\" class=\"dataframe\">\n",
       "  <thead>\n",
       "    <tr style=\"text-align: right;\">\n",
       "      <th></th>\n",
       "      <th>Unnamed: 0</th>\n",
       "      <th>start_date</th>\n",
       "      <th>zip_code</th>\n",
       "      <th>start_station_name</th>\n",
       "      <th>num_trips</th>\n",
       "      <th>date</th>\n",
       "      <th>max_temperature_f</th>\n",
       "      <th>mean_temperature_f</th>\n",
       "      <th>min_temperature_f</th>\n",
       "      <th>max_dew_point_f</th>\n",
       "      <th>...</th>\n",
       "      <th>events</th>\n",
       "      <th>wind_dir_degrees</th>\n",
       "      <th>station_id</th>\n",
       "      <th>name</th>\n",
       "      <th>lat</th>\n",
       "      <th>long</th>\n",
       "      <th>dock_count</th>\n",
       "      <th>city</th>\n",
       "      <th>installation_date</th>\n",
       "      <th>holidays</th>\n",
       "    </tr>\n",
       "  </thead>\n",
       "  <tbody>\n",
       "    <tr>\n",
       "      <th>0</th>\n",
       "      <td>0</td>\n",
       "      <td>2013-08-29</td>\n",
       "      <td>94041</td>\n",
       "      <td>Mountain View Caltrain Station</td>\n",
       "      <td>1</td>\n",
       "      <td>2013-08-29</td>\n",
       "      <td>80.0</td>\n",
       "      <td>70.0</td>\n",
       "      <td>64.0</td>\n",
       "      <td>65.0</td>\n",
       "      <td>...</td>\n",
       "      <td>Sunny</td>\n",
       "      <td>355.0</td>\n",
       "      <td>28.0</td>\n",
       "      <td>Mountain View Caltrain Station</td>\n",
       "      <td>37.394360</td>\n",
       "      <td>-122.076714</td>\n",
       "      <td>23.0</td>\n",
       "      <td>Mountain View</td>\n",
       "      <td>2013-08-15</td>\n",
       "      <td>0</td>\n",
       "    </tr>\n",
       "    <tr>\n",
       "      <th>1</th>\n",
       "      <td>1</td>\n",
       "      <td>2013-08-29</td>\n",
       "      <td>94041</td>\n",
       "      <td>Mountain View City Hall</td>\n",
       "      <td>1</td>\n",
       "      <td>2013-08-29</td>\n",
       "      <td>80.0</td>\n",
       "      <td>70.0</td>\n",
       "      <td>64.0</td>\n",
       "      <td>65.0</td>\n",
       "      <td>...</td>\n",
       "      <td>Sunny</td>\n",
       "      <td>355.0</td>\n",
       "      <td>27.0</td>\n",
       "      <td>Mountain View City Hall</td>\n",
       "      <td>37.389217</td>\n",
       "      <td>-122.081894</td>\n",
       "      <td>15.0</td>\n",
       "      <td>Mountain View</td>\n",
       "      <td>2013-08-16</td>\n",
       "      <td>0</td>\n",
       "    </tr>\n",
       "    <tr>\n",
       "      <th>2</th>\n",
       "      <td>2</td>\n",
       "      <td>2013-08-29</td>\n",
       "      <td>94041</td>\n",
       "      <td>Redwood City Caltrain Station</td>\n",
       "      <td>1</td>\n",
       "      <td>2013-08-29</td>\n",
       "      <td>80.0</td>\n",
       "      <td>70.0</td>\n",
       "      <td>64.0</td>\n",
       "      <td>65.0</td>\n",
       "      <td>...</td>\n",
       "      <td>Sunny</td>\n",
       "      <td>355.0</td>\n",
       "      <td>22.0</td>\n",
       "      <td>Redwood City Caltrain Station</td>\n",
       "      <td>37.486076</td>\n",
       "      <td>-122.232086</td>\n",
       "      <td>25.0</td>\n",
       "      <td>Redwood City</td>\n",
       "      <td>2013-08-15</td>\n",
       "      <td>0</td>\n",
       "    </tr>\n",
       "    <tr>\n",
       "      <th>3</th>\n",
       "      <td>3</td>\n",
       "      <td>2013-08-29</td>\n",
       "      <td>94041</td>\n",
       "      <td>Redwood City Medical Center</td>\n",
       "      <td>1</td>\n",
       "      <td>2013-08-29</td>\n",
       "      <td>80.0</td>\n",
       "      <td>70.0</td>\n",
       "      <td>64.0</td>\n",
       "      <td>65.0</td>\n",
       "      <td>...</td>\n",
       "      <td>Sunny</td>\n",
       "      <td>355.0</td>\n",
       "      <td>26.0</td>\n",
       "      <td>Redwood City Medical Center</td>\n",
       "      <td>37.487682</td>\n",
       "      <td>-122.223495</td>\n",
       "      <td>15.0</td>\n",
       "      <td>Redwood City</td>\n",
       "      <td>2013-08-12</td>\n",
       "      <td>0</td>\n",
       "    </tr>\n",
       "    <tr>\n",
       "      <th>4</th>\n",
       "      <td>4</td>\n",
       "      <td>2013-08-29</td>\n",
       "      <td>94041</td>\n",
       "      <td>San Pedro Square</td>\n",
       "      <td>1</td>\n",
       "      <td>2013-08-29</td>\n",
       "      <td>80.0</td>\n",
       "      <td>70.0</td>\n",
       "      <td>64.0</td>\n",
       "      <td>65.0</td>\n",
       "      <td>...</td>\n",
       "      <td>Sunny</td>\n",
       "      <td>355.0</td>\n",
       "      <td>6.0</td>\n",
       "      <td>San Pedro Square</td>\n",
       "      <td>37.336720</td>\n",
       "      <td>-121.894073</td>\n",
       "      <td>15.0</td>\n",
       "      <td>San Jose</td>\n",
       "      <td>2013-08-07</td>\n",
       "      <td>0</td>\n",
       "    </tr>\n",
       "  </tbody>\n",
       "</table>\n",
       "<p>5 rows × 36 columns</p>\n",
       "</div>"
      ],
      "text/plain": [
       "   Unnamed: 0  start_date  zip_code              start_station_name  \\\n",
       "0           0  2013-08-29     94041  Mountain View Caltrain Station   \n",
       "1           1  2013-08-29     94041         Mountain View City Hall   \n",
       "2           2  2013-08-29     94041   Redwood City Caltrain Station   \n",
       "3           3  2013-08-29     94041     Redwood City Medical Center   \n",
       "4           4  2013-08-29     94041                San Pedro Square   \n",
       "\n",
       "   num_trips        date  max_temperature_f  mean_temperature_f  \\\n",
       "0          1  2013-08-29               80.0                70.0   \n",
       "1          1  2013-08-29               80.0                70.0   \n",
       "2          1  2013-08-29               80.0                70.0   \n",
       "3          1  2013-08-29               80.0                70.0   \n",
       "4          1  2013-08-29               80.0                70.0   \n",
       "\n",
       "   min_temperature_f  max_dew_point_f    ...     events  wind_dir_degrees  \\\n",
       "0               64.0             65.0    ...      Sunny             355.0   \n",
       "1               64.0             65.0    ...      Sunny             355.0   \n",
       "2               64.0             65.0    ...      Sunny             355.0   \n",
       "3               64.0             65.0    ...      Sunny             355.0   \n",
       "4               64.0             65.0    ...      Sunny             355.0   \n",
       "\n",
       "   station_id                            name        lat        long  \\\n",
       "0        28.0  Mountain View Caltrain Station  37.394360 -122.076714   \n",
       "1        27.0         Mountain View City Hall  37.389217 -122.081894   \n",
       "2        22.0   Redwood City Caltrain Station  37.486076 -122.232086   \n",
       "3        26.0     Redwood City Medical Center  37.487682 -122.223495   \n",
       "4         6.0                San Pedro Square  37.336720 -121.894073   \n",
       "\n",
       "   dock_count           city  installation_date  holidays  \n",
       "0        23.0  Mountain View         2013-08-15         0  \n",
       "1        15.0  Mountain View         2013-08-16         0  \n",
       "2        25.0   Redwood City         2013-08-15         0  \n",
       "3        15.0   Redwood City         2013-08-12         0  \n",
       "4        15.0       San Jose         2013-08-07         0  \n",
       "\n",
       "[5 rows x 36 columns]"
      ]
     },
     "execution_count": 67,
     "metadata": {},
     "output_type": "execute_result"
    }
   ],
   "source": [
    "finalDF.head()"
   ]
  },
  {
   "cell_type": "code",
   "execution_count": 68,
   "metadata": {
    "collapsed": true
   },
   "outputs": [],
   "source": [
    "finalDF['date'] = pd.to_datetime(finalDF['date'])\n",
    "finalDF['day_of_week'] = finalDF['date'].dt.dayofweek"
   ]
  },
  {
   "cell_type": "code",
   "execution_count": 69,
   "metadata": {},
   "outputs": [
    {
     "data": {
      "text/html": [
       "<div>\n",
       "<style scoped>\n",
       "    .dataframe tbody tr th:only-of-type {\n",
       "        vertical-align: middle;\n",
       "    }\n",
       "\n",
       "    .dataframe tbody tr th {\n",
       "        vertical-align: top;\n",
       "    }\n",
       "\n",
       "    .dataframe thead th {\n",
       "        text-align: right;\n",
       "    }\n",
       "</style>\n",
       "<table border=\"1\" class=\"dataframe\">\n",
       "  <thead>\n",
       "    <tr style=\"text-align: right;\">\n",
       "      <th></th>\n",
       "      <th>Unnamed: 0</th>\n",
       "      <th>start_date</th>\n",
       "      <th>zip_code</th>\n",
       "      <th>start_station_name</th>\n",
       "      <th>num_trips</th>\n",
       "      <th>date</th>\n",
       "      <th>max_temperature_f</th>\n",
       "      <th>mean_temperature_f</th>\n",
       "      <th>min_temperature_f</th>\n",
       "      <th>max_dew_point_f</th>\n",
       "      <th>...</th>\n",
       "      <th>wind_dir_degrees</th>\n",
       "      <th>station_id</th>\n",
       "      <th>name</th>\n",
       "      <th>lat</th>\n",
       "      <th>long</th>\n",
       "      <th>dock_count</th>\n",
       "      <th>city</th>\n",
       "      <th>installation_date</th>\n",
       "      <th>holidays</th>\n",
       "      <th>day_of_week</th>\n",
       "    </tr>\n",
       "  </thead>\n",
       "  <tbody>\n",
       "    <tr>\n",
       "      <th>0</th>\n",
       "      <td>0</td>\n",
       "      <td>2013-08-29</td>\n",
       "      <td>94041</td>\n",
       "      <td>Mountain View Caltrain Station</td>\n",
       "      <td>1</td>\n",
       "      <td>2013-08-29</td>\n",
       "      <td>80.0</td>\n",
       "      <td>70.0</td>\n",
       "      <td>64.0</td>\n",
       "      <td>65.0</td>\n",
       "      <td>...</td>\n",
       "      <td>355.0</td>\n",
       "      <td>28.0</td>\n",
       "      <td>Mountain View Caltrain Station</td>\n",
       "      <td>37.394360</td>\n",
       "      <td>-122.076714</td>\n",
       "      <td>23.0</td>\n",
       "      <td>Mountain View</td>\n",
       "      <td>2013-08-15</td>\n",
       "      <td>0</td>\n",
       "      <td>3</td>\n",
       "    </tr>\n",
       "    <tr>\n",
       "      <th>1</th>\n",
       "      <td>1</td>\n",
       "      <td>2013-08-29</td>\n",
       "      <td>94041</td>\n",
       "      <td>Mountain View City Hall</td>\n",
       "      <td>1</td>\n",
       "      <td>2013-08-29</td>\n",
       "      <td>80.0</td>\n",
       "      <td>70.0</td>\n",
       "      <td>64.0</td>\n",
       "      <td>65.0</td>\n",
       "      <td>...</td>\n",
       "      <td>355.0</td>\n",
       "      <td>27.0</td>\n",
       "      <td>Mountain View City Hall</td>\n",
       "      <td>37.389217</td>\n",
       "      <td>-122.081894</td>\n",
       "      <td>15.0</td>\n",
       "      <td>Mountain View</td>\n",
       "      <td>2013-08-16</td>\n",
       "      <td>0</td>\n",
       "      <td>3</td>\n",
       "    </tr>\n",
       "    <tr>\n",
       "      <th>2</th>\n",
       "      <td>2</td>\n",
       "      <td>2013-08-29</td>\n",
       "      <td>94041</td>\n",
       "      <td>Redwood City Caltrain Station</td>\n",
       "      <td>1</td>\n",
       "      <td>2013-08-29</td>\n",
       "      <td>80.0</td>\n",
       "      <td>70.0</td>\n",
       "      <td>64.0</td>\n",
       "      <td>65.0</td>\n",
       "      <td>...</td>\n",
       "      <td>355.0</td>\n",
       "      <td>22.0</td>\n",
       "      <td>Redwood City Caltrain Station</td>\n",
       "      <td>37.486076</td>\n",
       "      <td>-122.232086</td>\n",
       "      <td>25.0</td>\n",
       "      <td>Redwood City</td>\n",
       "      <td>2013-08-15</td>\n",
       "      <td>0</td>\n",
       "      <td>3</td>\n",
       "    </tr>\n",
       "    <tr>\n",
       "      <th>3</th>\n",
       "      <td>3</td>\n",
       "      <td>2013-08-29</td>\n",
       "      <td>94041</td>\n",
       "      <td>Redwood City Medical Center</td>\n",
       "      <td>1</td>\n",
       "      <td>2013-08-29</td>\n",
       "      <td>80.0</td>\n",
       "      <td>70.0</td>\n",
       "      <td>64.0</td>\n",
       "      <td>65.0</td>\n",
       "      <td>...</td>\n",
       "      <td>355.0</td>\n",
       "      <td>26.0</td>\n",
       "      <td>Redwood City Medical Center</td>\n",
       "      <td>37.487682</td>\n",
       "      <td>-122.223495</td>\n",
       "      <td>15.0</td>\n",
       "      <td>Redwood City</td>\n",
       "      <td>2013-08-12</td>\n",
       "      <td>0</td>\n",
       "      <td>3</td>\n",
       "    </tr>\n",
       "    <tr>\n",
       "      <th>4</th>\n",
       "      <td>4</td>\n",
       "      <td>2013-08-29</td>\n",
       "      <td>94041</td>\n",
       "      <td>San Pedro Square</td>\n",
       "      <td>1</td>\n",
       "      <td>2013-08-29</td>\n",
       "      <td>80.0</td>\n",
       "      <td>70.0</td>\n",
       "      <td>64.0</td>\n",
       "      <td>65.0</td>\n",
       "      <td>...</td>\n",
       "      <td>355.0</td>\n",
       "      <td>6.0</td>\n",
       "      <td>San Pedro Square</td>\n",
       "      <td>37.336720</td>\n",
       "      <td>-121.894073</td>\n",
       "      <td>15.0</td>\n",
       "      <td>San Jose</td>\n",
       "      <td>2013-08-07</td>\n",
       "      <td>0</td>\n",
       "      <td>3</td>\n",
       "    </tr>\n",
       "  </tbody>\n",
       "</table>\n",
       "<p>5 rows × 37 columns</p>\n",
       "</div>"
      ],
      "text/plain": [
       "   Unnamed: 0  start_date  zip_code              start_station_name  \\\n",
       "0           0  2013-08-29     94041  Mountain View Caltrain Station   \n",
       "1           1  2013-08-29     94041         Mountain View City Hall   \n",
       "2           2  2013-08-29     94041   Redwood City Caltrain Station   \n",
       "3           3  2013-08-29     94041     Redwood City Medical Center   \n",
       "4           4  2013-08-29     94041                San Pedro Square   \n",
       "\n",
       "   num_trips       date  max_temperature_f  mean_temperature_f  \\\n",
       "0          1 2013-08-29               80.0                70.0   \n",
       "1          1 2013-08-29               80.0                70.0   \n",
       "2          1 2013-08-29               80.0                70.0   \n",
       "3          1 2013-08-29               80.0                70.0   \n",
       "4          1 2013-08-29               80.0                70.0   \n",
       "\n",
       "   min_temperature_f  max_dew_point_f     ...       wind_dir_degrees  \\\n",
       "0               64.0             65.0     ...                  355.0   \n",
       "1               64.0             65.0     ...                  355.0   \n",
       "2               64.0             65.0     ...                  355.0   \n",
       "3               64.0             65.0     ...                  355.0   \n",
       "4               64.0             65.0     ...                  355.0   \n",
       "\n",
       "   station_id                            name        lat        long  \\\n",
       "0        28.0  Mountain View Caltrain Station  37.394360 -122.076714   \n",
       "1        27.0         Mountain View City Hall  37.389217 -122.081894   \n",
       "2        22.0   Redwood City Caltrain Station  37.486076 -122.232086   \n",
       "3        26.0     Redwood City Medical Center  37.487682 -122.223495   \n",
       "4         6.0                San Pedro Square  37.336720 -121.894073   \n",
       "\n",
       "   dock_count           city  installation_date  holidays  day_of_week  \n",
       "0        23.0  Mountain View         2013-08-15         0            3  \n",
       "1        15.0  Mountain View         2013-08-16         0            3  \n",
       "2        25.0   Redwood City         2013-08-15         0            3  \n",
       "3        15.0   Redwood City         2013-08-12         0            3  \n",
       "4        15.0       San Jose         2013-08-07         0            3  \n",
       "\n",
       "[5 rows x 37 columns]"
      ]
     },
     "execution_count": 69,
     "metadata": {},
     "output_type": "execute_result"
    }
   ],
   "source": [
    "finalDF.head()"
   ]
  },
  {
   "cell_type": "code",
   "execution_count": 71,
   "metadata": {
    "collapsed": true
   },
   "outputs": [],
   "source": [
    "finalDF.drop(['Unnamed: 0', 'start_date', 'name'], axis=1, inplace=True)"
   ]
  },
  {
   "cell_type": "code",
   "execution_count": 72,
   "metadata": {
    "collapsed": true
   },
   "outputs": [],
   "source": [
    "y = finalDF['num_trips']\n",
    "finalDF = finalDF.drop(['num_trips'], axis=1)"
   ]
  },
  {
   "cell_type": "code",
   "execution_count": 73,
   "metadata": {
    "collapsed": true
   },
   "outputs": [],
   "source": [
    "finalDF['label'] = y"
   ]
  },
  {
   "cell_type": "code",
   "execution_count": 74,
   "metadata": {},
   "outputs": [
    {
     "data": {
      "text/html": [
       "<div>\n",
       "<style scoped>\n",
       "    .dataframe tbody tr th:only-of-type {\n",
       "        vertical-align: middle;\n",
       "    }\n",
       "\n",
       "    .dataframe tbody tr th {\n",
       "        vertical-align: top;\n",
       "    }\n",
       "\n",
       "    .dataframe thead th {\n",
       "        text-align: right;\n",
       "    }\n",
       "</style>\n",
       "<table border=\"1\" class=\"dataframe\">\n",
       "  <thead>\n",
       "    <tr style=\"text-align: right;\">\n",
       "      <th></th>\n",
       "      <th>zip_code</th>\n",
       "      <th>start_station_name</th>\n",
       "      <th>date</th>\n",
       "      <th>max_temperature_f</th>\n",
       "      <th>mean_temperature_f</th>\n",
       "      <th>min_temperature_f</th>\n",
       "      <th>max_dew_point_f</th>\n",
       "      <th>mean_dew_point_f</th>\n",
       "      <th>min_dew_point_f</th>\n",
       "      <th>max_humidity</th>\n",
       "      <th>...</th>\n",
       "      <th>wind_dir_degrees</th>\n",
       "      <th>station_id</th>\n",
       "      <th>lat</th>\n",
       "      <th>long</th>\n",
       "      <th>dock_count</th>\n",
       "      <th>city</th>\n",
       "      <th>installation_date</th>\n",
       "      <th>holidays</th>\n",
       "      <th>day_of_week</th>\n",
       "      <th>label</th>\n",
       "    </tr>\n",
       "  </thead>\n",
       "  <tbody>\n",
       "    <tr>\n",
       "      <th>0</th>\n",
       "      <td>94041</td>\n",
       "      <td>Mountain View Caltrain Station</td>\n",
       "      <td>2013-08-29</td>\n",
       "      <td>80.0</td>\n",
       "      <td>70.0</td>\n",
       "      <td>64.0</td>\n",
       "      <td>65.0</td>\n",
       "      <td>61.0</td>\n",
       "      <td>58.0</td>\n",
       "      <td>83.0</td>\n",
       "      <td>...</td>\n",
       "      <td>355.0</td>\n",
       "      <td>28.0</td>\n",
       "      <td>37.394360</td>\n",
       "      <td>-122.076714</td>\n",
       "      <td>23.0</td>\n",
       "      <td>Mountain View</td>\n",
       "      <td>2013-08-15</td>\n",
       "      <td>0</td>\n",
       "      <td>3</td>\n",
       "      <td>1</td>\n",
       "    </tr>\n",
       "    <tr>\n",
       "      <th>1</th>\n",
       "      <td>94041</td>\n",
       "      <td>Mountain View City Hall</td>\n",
       "      <td>2013-08-29</td>\n",
       "      <td>80.0</td>\n",
       "      <td>70.0</td>\n",
       "      <td>64.0</td>\n",
       "      <td>65.0</td>\n",
       "      <td>61.0</td>\n",
       "      <td>58.0</td>\n",
       "      <td>83.0</td>\n",
       "      <td>...</td>\n",
       "      <td>355.0</td>\n",
       "      <td>27.0</td>\n",
       "      <td>37.389217</td>\n",
       "      <td>-122.081894</td>\n",
       "      <td>15.0</td>\n",
       "      <td>Mountain View</td>\n",
       "      <td>2013-08-16</td>\n",
       "      <td>0</td>\n",
       "      <td>3</td>\n",
       "      <td>1</td>\n",
       "    </tr>\n",
       "    <tr>\n",
       "      <th>2</th>\n",
       "      <td>94041</td>\n",
       "      <td>Redwood City Caltrain Station</td>\n",
       "      <td>2013-08-29</td>\n",
       "      <td>80.0</td>\n",
       "      <td>70.0</td>\n",
       "      <td>64.0</td>\n",
       "      <td>65.0</td>\n",
       "      <td>61.0</td>\n",
       "      <td>58.0</td>\n",
       "      <td>83.0</td>\n",
       "      <td>...</td>\n",
       "      <td>355.0</td>\n",
       "      <td>22.0</td>\n",
       "      <td>37.486076</td>\n",
       "      <td>-122.232086</td>\n",
       "      <td>25.0</td>\n",
       "      <td>Redwood City</td>\n",
       "      <td>2013-08-15</td>\n",
       "      <td>0</td>\n",
       "      <td>3</td>\n",
       "      <td>1</td>\n",
       "    </tr>\n",
       "    <tr>\n",
       "      <th>3</th>\n",
       "      <td>94041</td>\n",
       "      <td>Redwood City Medical Center</td>\n",
       "      <td>2013-08-29</td>\n",
       "      <td>80.0</td>\n",
       "      <td>70.0</td>\n",
       "      <td>64.0</td>\n",
       "      <td>65.0</td>\n",
       "      <td>61.0</td>\n",
       "      <td>58.0</td>\n",
       "      <td>83.0</td>\n",
       "      <td>...</td>\n",
       "      <td>355.0</td>\n",
       "      <td>26.0</td>\n",
       "      <td>37.487682</td>\n",
       "      <td>-122.223495</td>\n",
       "      <td>15.0</td>\n",
       "      <td>Redwood City</td>\n",
       "      <td>2013-08-12</td>\n",
       "      <td>0</td>\n",
       "      <td>3</td>\n",
       "      <td>1</td>\n",
       "    </tr>\n",
       "    <tr>\n",
       "      <th>4</th>\n",
       "      <td>94041</td>\n",
       "      <td>San Pedro Square</td>\n",
       "      <td>2013-08-29</td>\n",
       "      <td>80.0</td>\n",
       "      <td>70.0</td>\n",
       "      <td>64.0</td>\n",
       "      <td>65.0</td>\n",
       "      <td>61.0</td>\n",
       "      <td>58.0</td>\n",
       "      <td>83.0</td>\n",
       "      <td>...</td>\n",
       "      <td>355.0</td>\n",
       "      <td>6.0</td>\n",
       "      <td>37.336720</td>\n",
       "      <td>-121.894073</td>\n",
       "      <td>15.0</td>\n",
       "      <td>San Jose</td>\n",
       "      <td>2013-08-07</td>\n",
       "      <td>0</td>\n",
       "      <td>3</td>\n",
       "      <td>1</td>\n",
       "    </tr>\n",
       "  </tbody>\n",
       "</table>\n",
       "<p>5 rows × 34 columns</p>\n",
       "</div>"
      ],
      "text/plain": [
       "   zip_code              start_station_name       date  max_temperature_f  \\\n",
       "0     94041  Mountain View Caltrain Station 2013-08-29               80.0   \n",
       "1     94041         Mountain View City Hall 2013-08-29               80.0   \n",
       "2     94041   Redwood City Caltrain Station 2013-08-29               80.0   \n",
       "3     94041     Redwood City Medical Center 2013-08-29               80.0   \n",
       "4     94041                San Pedro Square 2013-08-29               80.0   \n",
       "\n",
       "   mean_temperature_f  min_temperature_f  max_dew_point_f  mean_dew_point_f  \\\n",
       "0                70.0               64.0             65.0              61.0   \n",
       "1                70.0               64.0             65.0              61.0   \n",
       "2                70.0               64.0             65.0              61.0   \n",
       "3                70.0               64.0             65.0              61.0   \n",
       "4                70.0               64.0             65.0              61.0   \n",
       "\n",
       "   min_dew_point_f  max_humidity  ...    wind_dir_degrees  station_id  \\\n",
       "0             58.0          83.0  ...               355.0        28.0   \n",
       "1             58.0          83.0  ...               355.0        27.0   \n",
       "2             58.0          83.0  ...               355.0        22.0   \n",
       "3             58.0          83.0  ...               355.0        26.0   \n",
       "4             58.0          83.0  ...               355.0         6.0   \n",
       "\n",
       "         lat        long  dock_count           city  installation_date  \\\n",
       "0  37.394360 -122.076714        23.0  Mountain View         2013-08-15   \n",
       "1  37.389217 -122.081894        15.0  Mountain View         2013-08-16   \n",
       "2  37.486076 -122.232086        25.0   Redwood City         2013-08-15   \n",
       "3  37.487682 -122.223495        15.0   Redwood City         2013-08-12   \n",
       "4  37.336720 -121.894073        15.0       San Jose         2013-08-07   \n",
       "\n",
       "   holidays  day_of_week  label  \n",
       "0         0            3      1  \n",
       "1         0            3      1  \n",
       "2         0            3      1  \n",
       "3         0            3      1  \n",
       "4         0            3      1  \n",
       "\n",
       "[5 rows x 34 columns]"
      ]
     },
     "execution_count": 74,
     "metadata": {},
     "output_type": "execute_result"
    }
   ],
   "source": [
    "finalDF.head()"
   ]
  },
  {
   "cell_type": "code",
   "execution_count": 75,
   "metadata": {
    "collapsed": true
   },
   "outputs": [],
   "source": [
    "finalDF.to_csv('bikeDF2.csv')"
   ]
  },
  {
   "cell_type": "code",
   "execution_count": 76,
   "metadata": {
    "collapsed": true
   },
   "outputs": [],
   "source": [
    "#reconstruct the schema\n",
    "schema = StructType([\n",
    "    StructField('unnamed', IntegerType(), True),\n",
    "    StructField(\"zip_code\",IntegerType(),True),\n",
    "    StructField(\"start_station_name\",StringType(),True),\n",
    "    StructField(\"date\",DateType(),True),\n",
    "    StructField(\"max_temperature_f\",FloatType(),True),\n",
    "    StructField(\"mean_temperature_f\",FloatType(),True),\n",
    "    StructField(\"min_temperature_f\",FloatType(),True),\n",
    "    StructField(\"max_dew_point_f\",FloatType(),True),\n",
    "    StructField(\"mean_dew_point_f\",FloatType(),True),\n",
    "    StructField(\"min_dew_point_f\",FloatType(),True),\n",
    "    StructField(\"max_humidity\",FloatType(),True),\n",
    "    StructField(\"mean_humidity\",FloatType(),True),\n",
    "    StructField(\"min_humidity\",FloatType(),True),\n",
    "    StructField(\"max_sea_level_pressure_inches\",FloatType(),True),\n",
    "    StructField(\"mean_sea_level_pressure_inches\",FloatType(),True),\n",
    "    StructField(\"min_sea_level_pressure_inches\",FloatType(),True),\n",
    "    StructField(\"max_visibility_miles\",FloatType(),True),\n",
    "    StructField(\"mean_visibility_miles\",FloatType(),True),\n",
    "    StructField(\"min_visibility_miles\",FloatType(),True),\n",
    "    StructField(\"max_wind_Speed_mph\",FloatType(),True),\n",
    "    StructField(\"mean_wind_speed_mph\",FloatType(),True),\n",
    "    StructField(\"max_gust_speed_mph\",FloatType(),True),\n",
    "    StructField(\"precipitation_inches\",FloatType(),True),\n",
    "    StructField(\"cloud_cover\",FloatType(),True),\n",
    "    StructField(\"events\",StringType(),True),\n",
    "    StructField(\"wind_dir_degrees\",FloatType(),True),\n",
    "    StructField(\"station_id\",FloatType(),True),\n",
    "    StructField(\"lat\",FloatType(),True),\n",
    "    StructField(\"long\",FloatType(),True),\n",
    "    StructField(\"dock_count\",IntegerType(),True),\n",
    "    StructField(\"city\",StringType(),True),\n",
    "    StructField(\"installation_date\",DateType(),True),\n",
    "    StructField(\"holidays\",IntegerType(),True),\n",
    "    StructField(\"day_of_week\",IntegerType(),True),\n",
    "    StructField(\"label\",IntegerType(),True)\n",
    "])"
   ]
  },
  {
   "cell_type": "markdown",
   "metadata": {},
   "source": [
    "## C. modeling"
   ]
  },
  {
   "cell_type": "code",
   "execution_count": null,
   "metadata": {},
   "outputs": [],
   "source": [
    "\n",
    "df = sqlContext.read \\\n",
    "    .format('com.databricks.spark.csv') \\\n",
    "    .options(header='true') \\\n",
    "    .load('bikeDF2.csv', schema = schema)"
   ]
  },
  {
   "cell_type": "code",
   "execution_count": 78,
   "metadata": {},
   "outputs": [
    {
     "name": "stdout",
     "output_type": "stream",
     "text": [
      "+-------+--------+------------------+----+-----------------+------------------+-----------------+---------------+----------------+---------------+------------+-------------+------------+-----------------------------+------------------------------+-----------------------------+--------------------+---------------------+--------------------+------------------+-------------------+------------------+--------------------+-----------+------+----------------+----------+----+----+----------+----+-----------------+--------+-----------+-----+\n",
      "|unnamed|zip_code|start_station_name|date|max_temperature_f|mean_temperature_f|min_temperature_f|max_dew_point_f|mean_dew_point_f|min_dew_point_f|max_humidity|mean_humidity|min_humidity|max_sea_level_pressure_inches|mean_sea_level_pressure_inches|min_sea_level_pressure_inches|max_visibility_miles|mean_visibility_miles|min_visibility_miles|max_wind_Speed_mph|mean_wind_speed_mph|max_gust_speed_mph|precipitation_inches|cloud_cover|events|wind_dir_degrees|station_id| lat|long|dock_count|city|installation_date|holidays|day_of_week|label|\n",
      "+-------+--------+------------------+----+-----------------+------------------+-----------------+---------------+----------------+---------------+------------+-------------+------------+-----------------------------+------------------------------+-----------------------------+--------------------+---------------------+--------------------+------------------+-------------------+------------------+--------------------+-----------+------+----------------+----------+----+----+----------+----+-----------------+--------+-----------+-----+\n",
      "|   null|    null|              null|null|             null|              null|             null|           null|            null|           null|        null|         null|        null|                         null|                          null|                         null|                null|                 null|                null|              null|               null|              null|                null|       null|  null|            null|      null|null|null|      null|null|             null|    null|       null| null|\n",
      "+-------+--------+------------------+----+-----------------+------------------+-----------------+---------------+----------------+---------------+------------+-------------+------------+-----------------------------+------------------------------+-----------------------------+--------------------+---------------------+--------------------+------------------+-------------------+------------------+--------------------+-----------+------+----------------+----------+----+----+----------+----+-----------------+--------+-----------+-----+\n",
      "only showing top 1 row\n",
      "\n"
     ]
    }
   ],
   "source": [
    "df.show(1)"
   ]
  },
  {
   "cell_type": "code",
   "execution_count": 132,
   "metadata": {
    "collapsed": true
   },
   "outputs": [],
   "source": [
    "df = df.drop('unnamed', 'date', 'installation_date', 'city')"
   ]
  },
  {
   "cell_type": "code",
   "execution_count": 133,
   "metadata": {},
   "outputs": [
    {
     "name": "stdout",
     "output_type": "stream",
     "text": [
      "+--------+--------------------+-----------------+------------------+-----------------+---------------+----------------+---------------+------------+-------------+------------+-----------------------------+------------------------------+-----------------------------+--------------------+---------------------+--------------------+------------------+-------------------+------------------+--------------------+-----------+------+----------------+----------+---------+-----------+----------+--------+-----------+-----+\n",
      "|zip_code|  start_station_name|max_temperature_f|mean_temperature_f|min_temperature_f|max_dew_point_f|mean_dew_point_f|min_dew_point_f|max_humidity|mean_humidity|min_humidity|max_sea_level_pressure_inches|mean_sea_level_pressure_inches|min_sea_level_pressure_inches|max_visibility_miles|mean_visibility_miles|min_visibility_miles|max_wind_Speed_mph|mean_wind_speed_mph|max_gust_speed_mph|precipitation_inches|cloud_cover|events|wind_dir_degrees|station_id|      lat|       long|dock_count|holidays|day_of_week|label|\n",
      "+--------+--------------------+-----------------+------------------+-----------------+---------------+----------------+---------------+------------+-------------+------------+-----------------------------+------------------------------+-----------------------------+--------------------+---------------------+--------------------+------------------+-------------------+------------------+--------------------+-----------+------+----------------+----------+---------+-----------+----------+--------+-----------+-----+\n",
      "|   94041|Mountain View Cal...|             80.0|              70.0|             64.0|           65.0|            61.0|           58.0|        83.0|         72.0|        55.0|                        30.04|                         30.04|                        29.94|                10.0|                 10.0|                10.0|              16.0|                5.0|              16.0|                 0.0|        4.0| Sunny|           355.0|      28.0| 37.39436| -122.07671|      23.0|       0|          3|    1|\n",
      "|   94041|Mountain View Cit...|             80.0|              70.0|             64.0|           65.0|            61.0|           58.0|        83.0|         72.0|        55.0|                        30.04|                         30.04|                        29.94|                10.0|                 10.0|                10.0|              16.0|                5.0|              16.0|                 0.0|        4.0| Sunny|           355.0|      27.0|37.389217|-122.081894|      15.0|       0|          3|    1|\n",
      "|   94041|Redwood City Calt...|             80.0|              70.0|             64.0|           65.0|            61.0|           58.0|        83.0|         72.0|        55.0|                        30.04|                         30.04|                        29.94|                10.0|                 10.0|                10.0|              16.0|                5.0|              16.0|                 0.0|        4.0| Sunny|           355.0|      22.0|37.486076|-122.232086|      25.0|       0|          3|    1|\n",
      "+--------+--------------------+-----------------+------------------+-----------------+---------------+----------------+---------------+------------+-------------+------------+-----------------------------+------------------------------+-----------------------------+--------------------+---------------------+--------------------+------------------+-------------------+------------------+--------------------+-----------+------+----------------+----------+---------+-----------+----------+--------+-----------+-----+\n",
      "only showing top 3 rows\n",
      "\n"
     ]
    }
   ],
   "source": [
    "df.show(3)"
   ]
  },
  {
   "cell_type": "code",
   "execution_count": 150,
   "metadata": {
    "collapsed": true
   },
   "outputs": [],
   "source": [
    "df = df.na.drop()"
   ]
  },
  {
   "cell_type": "code",
   "execution_count": 151,
   "metadata": {
    "collapsed": true
   },
   "outputs": [],
   "source": [
    "#converting strings to numeric values\n",
    "from pyspark.ml.feature import StringIndexer\n",
    "\n",
    "def indexStringColumns(df, cols):\n",
    "    #variable newdf will be updated several times\n",
    "    newdf = df\n",
    "    \n",
    "    for c in cols:\n",
    "        #For each given colum, fits StringIndexerModel.\n",
    "        si = StringIndexer(inputCol=c, outputCol=c+\"-num\")\n",
    "        sm = si.fit(newdf)\n",
    "        #Creates a DataFame by putting the transformed values in the new colum with suffix \"-num\" \n",
    "        #and then drops the original columns.\n",
    "        #and drop the \"-num\" suffix. \n",
    "        newdf = sm.transform(newdf).drop(c)\n",
    "        newdf = newdf.withColumnRenamed(c+\"-num\", c)\n",
    "    return newdf\n",
    "\n",
    "dfnumeric = indexStringColumns(df,['start_station_name', 'events', 'dock_count'])"
   ]
  },
  {
   "cell_type": "code",
   "execution_count": 152,
   "metadata": {},
   "outputs": [
    {
     "name": "stdout",
     "output_type": "stream",
     "text": [
      "+--------+-----------------+------------------+-----------------+---------------+----------------+---------------+------------+-------------+------------+-----------------------------+------------------------------+-----------------------------+--------------------+---------------------+--------------------+------------------+-------------------+------------------+--------------------+-----------+----------------+----------+---------+-----------+--------+-----------+-----+------------------+------+----------+\n",
      "|zip_code|max_temperature_f|mean_temperature_f|min_temperature_f|max_dew_point_f|mean_dew_point_f|min_dew_point_f|max_humidity|mean_humidity|min_humidity|max_sea_level_pressure_inches|mean_sea_level_pressure_inches|min_sea_level_pressure_inches|max_visibility_miles|mean_visibility_miles|min_visibility_miles|max_wind_Speed_mph|mean_wind_speed_mph|max_gust_speed_mph|precipitation_inches|cloud_cover|wind_dir_degrees|station_id|      lat|       long|holidays|day_of_week|label|start_station_name|events|dock_count|\n",
      "+--------+-----------------+------------------+-----------------+---------------+----------------+---------------+------------+-------------+------------+-----------------------------+------------------------------+-----------------------------+--------------------+---------------------+--------------------+------------------+-------------------+------------------+--------------------+-----------+----------------+----------+---------+-----------+--------+-----------+-----+------------------+------+----------+\n",
      "|   94041|             80.0|              70.0|             64.0|           65.0|            61.0|           58.0|        83.0|         72.0|        55.0|                        30.04|                         30.04|                        29.94|                10.0|                 10.0|                10.0|              16.0|                5.0|              16.0|                 0.0|        4.0|           355.0|      28.0| 37.39436| -122.07671|       0|          3|    1|              10.0|   0.0|       2.0|\n",
      "|   94041|             80.0|              70.0|             64.0|           65.0|            61.0|           58.0|        83.0|         72.0|        55.0|                        30.04|                         30.04|                        29.94|                10.0|                 10.0|                10.0|              16.0|                5.0|              16.0|                 0.0|        4.0|           355.0|      27.0|37.389217|-122.081894|       0|          3|    1|              13.0|   0.0|       1.0|\n",
      "|   94041|             80.0|              70.0|             64.0|           65.0|            61.0|           58.0|        83.0|         72.0|        55.0|                        30.04|                         30.04|                        29.94|                10.0|                 10.0|                10.0|              16.0|                5.0|              16.0|                 0.0|        4.0|           355.0|      22.0|37.486076|-122.232086|       0|          3|    1|              36.0|   0.0|       5.0|\n",
      "+--------+-----------------+------------------+-----------------+---------------+----------------+---------------+------------+-------------+------------+-----------------------------+------------------------------+-----------------------------+--------------------+---------------------+--------------------+------------------+-------------------+------------------+--------------------+-----------+----------------+----------+---------+-----------+--------+-----------+-----+------------------+------+----------+\n",
      "only showing top 3 rows\n",
      "\n"
     ]
    }
   ],
   "source": [
    "dfnumeric.show(3)"
   ]
  },
  {
   "cell_type": "code",
   "execution_count": 153,
   "metadata": {},
   "outputs": [
    {
     "data": {
      "text/plain": [
       "DataFrame[zip_code: int, max_temperature_f: float, mean_temperature_f: float, min_temperature_f: float, max_dew_point_f: float, mean_dew_point_f: float, min_dew_point_f: float, max_humidity: float, mean_humidity: float, min_humidity: float, max_sea_level_pressure_inches: float, mean_sea_level_pressure_inches: float, min_sea_level_pressure_inches: float, max_visibility_miles: float, mean_visibility_miles: float, min_visibility_miles: float, max_wind_Speed_mph: float, mean_wind_speed_mph: float, max_gust_speed_mph: float, precipitation_inches: float, cloud_cover: float, wind_dir_degrees: float, station_id: float, lat: float, long: float, holidays: int, day_of_week: int, label: int, start_station_name: double, events: double, dock_count: double]"
      ]
     },
     "execution_count": 153,
     "metadata": {},
     "output_type": "execute_result"
    }
   ],
   "source": [
    "dfnumeric"
   ]
  },
  {
   "cell_type": "code",
   "execution_count": 154,
   "metadata": {
    "collapsed": true
   },
   "outputs": [],
   "source": [
    "# Merging the data with Vector Assembler.\n",
    "from pyspark.ml.feature import VectorAssembler\n",
    "input_cols = ['zip_code','max_temperature_f','mean_temperature_f','min_temperature_f',\n",
    "        'max_dew_point_f','mean_dew_point_f','min_dew_point_f','max_humidity','mean_humidity',\n",
    "        'min_humidity','max_sea_level_pressure_inches', 'mean_sea_level_pressure_inches',\n",
    "        'min_sea_level_pressure_inches', 'max_visibility_miles','mean_visibility_miles',\n",
    "        'min_visibility_miles', 'max_wind_Speed_mph', 'mean_wind_speed_mph',\n",
    "        'max_gust_speed_mph','precipitation_inches','cloud_cover','wind_dir_degrees',\n",
    "        'station_id', 'lat','long','holidays','day_of_week','start_station_name',\n",
    "        'events','dock_count']\n",
    "\n",
    "#VectorAssembler takes a number of collumn names(inputCols) and output column name (outputCol)\n",
    "#and transforms a DataFrame to assemble the values in inputCols into one single vector with outputCol.\n",
    "va = VectorAssembler(outputCol=\"features\", inputCols=input_cols)\n",
    "#lpoints - labeled data.\n",
    "df_final = va.transform(dfnumeric).select(\"features\", \"label\")"
   ]
  },
  {
   "cell_type": "code",
   "execution_count": 155,
   "metadata": {
    "collapsed": true
   },
   "outputs": [],
   "source": [
    "dfSets = df_final.randomSplit([0.8, 0.2], 1)\n",
    "dfTrain = dfSets[0].cache()\n",
    "dfTest = dfSets[1].cache()"
   ]
  },
  {
   "cell_type": "code",
   "execution_count": 159,
   "metadata": {
    "collapsed": true
   },
   "outputs": [],
   "source": [
    "from pyspark.ml.regression import RandomForestRegressor\n",
    "rf = RandomForestRegressor(maxDepth=20, maxBins=70)\n",
    "rfmodel = rf.fit(dfTrain)"
   ]
  },
  {
   "cell_type": "code",
   "execution_count": 161,
   "metadata": {},
   "outputs": [
    {
     "name": "stdout",
     "output_type": "stream",
     "text": [
      "RMSE = 1\n"
     ]
    }
   ],
   "source": [
    "from pyspark.ml.evaluation import RegressionEvaluator\n",
    "rfpredicts = rfmodel.transform(dfTest)\n",
    "evaluator = RegressionEvaluator(labelCol=\"label\", predictionCol=\"prediction\", metricName=\"rmse\")\n",
    "rmse = evaluator.evaluate(rfpredicts)\n",
    "print(\"RMSE = %d\" % rmse)"
   ]
  },
  {
   "cell_type": "code",
   "execution_count": null,
   "metadata": {
    "collapsed": true
   },
   "outputs": [],
   "source": []
  }
 ],
 "metadata": {
  "kernelspec": {
   "display_name": "Python 2",
   "language": "python",
   "name": "python2"
  },
  "language_info": {
   "codemirror_mode": {
    "name": "ipython",
    "version": 2
   },
   "file_extension": ".py",
   "mimetype": "text/x-python",
   "name": "python",
   "nbconvert_exporter": "python",
   "pygments_lexer": "ipython2",
   "version": "2.7.13"
  }
 },
 "nbformat": 4,
 "nbformat_minor": 2
}
